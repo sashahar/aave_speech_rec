{
 "cells": [
  {
   "cell_type": "code",
   "execution_count": 61,
   "metadata": {},
   "outputs": [],
   "source": [
    "import os\n",
    "import pandas as pd\n",
    "import numpy as np\n",
    "from google.cloud import speech_v1\n",
    "from google.cloud.speech_v1 import enums\n",
    "from google.datalab import storage\n",
    "from tqdm import tqdm"
   ]
  },
  {
   "cell_type": "code",
   "execution_count": 62,
   "metadata": {},
   "outputs": [],
   "source": [
    "os.environ[\"GOOGLE_APPLICATION_CREDENTIALS\"]=\"speech-rec-key.json\""
   ]
  },
  {
   "cell_type": "code",
   "execution_count": 63,
   "metadata": {},
   "outputs": [],
   "source": [
    "root = \"gs://aave-test-bucket\"\n",
    "audio_files = [o.key for o in storage.Bucket('aave-test-bucket').objects() if o.key.startswith('data_processed/wav')]\n",
    "manifest = pd.read_csv('gs://aave-test-bucket/manifest.csv')\n",
    "manifest[\"google_transcription\"] = np.nan"
   ]
  },
  {
   "cell_type": "code",
   "execution_count": 64,
   "metadata": {},
   "outputs": [],
   "source": [
    "def get_single_transcript(storage_uri):\n",
    "    \"\"\"\n",
    "    Transcribe long audio file from Cloud Storage using asynchronous speech\n",
    "    recognition\n",
    "\n",
    "    Args:\n",
    "      storage_uri URI for audio file in Cloud Storage, e.g. gs://[BUCKET]/[FILE]\n",
    "    \"\"\"\n",
    "\n",
    "    client = speech_v1.SpeechClient()\n",
    "\n",
    "    # The language of the supplied audio\n",
    "    language_code = \"en-US\"\n",
    "\n",
    "    config = {\n",
    "        \"language_code\": language_code,\n",
    "    }\n",
    "    \n",
    "    audio = {\"uri\": storage_uri}\n",
    "\n",
    "    operation = client.long_running_recognize(config, audio)\n",
    "\n",
    "    response = operation.result()\n",
    "    \n",
    "    transcript = []\n",
    "    for result in response.results:\n",
    "        # First alternative is the most probable result\n",
    "        alternative = result.alternatives[0]\n",
    "        transcript.append(alternative.transcript.strip())\n",
    "    \n",
    "    return \" \".join(transcript)"
   ]
  },
  {
   "cell_type": "code",
   "execution_count": 65,
   "metadata": {},
   "outputs": [
    {
     "name": "stderr",
     "output_type": "stream",
     "text": [
      "100%|██████████| 1120/1120 [2:18:21<00:00,  7.41s/it] \n"
     ]
    }
   ],
   "source": [
    "for idx in tqdm(range(len(audio_files))):\n",
    "    audio_file = audio_files[idx]\n",
    "    full_file_path = os.path.join(URI_ROOT, audio_file)\n",
    "    transcript = get_single_transcript(full_file_path)\n",
    "    manifest.loc[manifest['wav_file'] == audio_file, \"google_transcription\"] = transcript\n",
    "    manifest.to_csv(\"manifest.csv\")"
   ]
  }
 ],
 "metadata": {
  "kernelspec": {
   "display_name": "aave_speech_rec",
   "language": "python",
   "name": "aave_speech_rec"
  },
  "language_info": {
   "codemirror_mode": {
    "name": "ipython",
    "version": 3
   },
   "file_extension": ".py",
   "mimetype": "text/x-python",
   "name": "python",
   "nbconvert_exporter": "python",
   "pygments_lexer": "ipython3",
   "version": "3.8.3"
  }
 },
 "nbformat": 4,
 "nbformat_minor": 2
}

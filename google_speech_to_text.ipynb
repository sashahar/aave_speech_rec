{
 "cells": [
  {
   "cell_type": "code",
   "execution_count": 14,
   "metadata": {},
   "outputs": [],
   "source": [
    "import os\n",
    "from google.cloud import speech_v1\n",
    "from google.cloud.speech_v1 import enums\n",
    "from google.datalab import storage"
   ]
  },
  {
   "cell_type": "code",
   "execution_count": 20,
   "metadata": {},
   "outputs": [],
   "source": [
    "#os.environ[\"GOOGLE_APPLICATION_CREDENTIALS\"]=\"/Users/clairepajot/Downloads/speech-rec-key.json\"\n",
    "os.environ[\"GOOGLE_APPLICATION_CREDENTIALS\"]=\"speech-rec-key.json\""
   ]
  },
  {
   "cell_type": "code",
   "execution_count": 16,
   "metadata": {},
   "outputs": [],
   "source": [
    "URI_ROOT = \"gs://aave-test-bucket\"\n",
    "AUDIO_FILES = [o.key for o in storage.Bucket('aave-test-bucket').objects() if o.key.startswith('DCA_audio_part01_2018.10.06')]"
   ]
  },
  {
   "cell_type": "code",
   "execution_count": 17,
   "metadata": {},
   "outputs": [],
   "source": [
    "def get_single_transcript(storage_uri):\n",
    "    \"\"\"\n",
    "    Transcribe long audio file from Cloud Storage using asynchronous speech\n",
    "    recognition\n",
    "\n",
    "    Args:\n",
    "      storage_uri URI for audio file in Cloud Storage, e.g. gs://[BUCKET]/[FILE]\n",
    "    \"\"\"\n",
    "\n",
    "    client = speech_v1.SpeechClient()\n",
    "\n",
    "    # The language of the supplied audio\n",
    "    language_code = \"en-US\"\n",
    "\n",
    "    config = {\n",
    "        \"language_code\": language_code,\n",
    "    }\n",
    "    \n",
    "    audio = {\"uri\": storage_uri}\n",
    "\n",
    "    operation = client.long_running_recognize(config, audio)\n",
    "\n",
    "    print(u\"Waiting for operation to complete...\")\n",
    "    response = operation.result()\n",
    "    \n",
    "    transcript = []\n",
    "    for result in response.results:\n",
    "        # First alternative is the most probable result\n",
    "        alternative = result.alternatives[0]\n",
    "        transcript.append(alternative.transcript.strip())\n",
    "    \n",
    "    return \" \".join(transcript)"
   ]
  },
  {
   "cell_type": "code",
   "execution_count": 19,
   "metadata": {},
   "outputs": [
    {
     "name": "stdout",
     "output_type": "stream",
     "text": [
      "Waiting for operation to complete...\n",
      "count to 10 what's your name can you count to 10 for me please 1 2 3 4 5 6 7 8 9 10 what kind of games do you play around here football jump rope that's all what do you do when you jump rope who played double dutch you have to tell people how to be how to turn in vote remind me to Jumping about to start the job do you have any rhymes no Giver play games where you hide or doing work person got a count to 20 and why do some more children have you got time to find how do you pick a person I don't know new plus-size sunlight and somebody said that they're going to be the name and then just sound like South Africa I played don't I have I have some bosses games at home don't spill the beans and I have a puzzle and I have a game called eggnog and four dices supposed to roll up roll the dice and have some holes in it whatever you want to die stop and supposed to put the marbles in the hole and then how do you win it yeah for things down the road and then you get all for your mom's down there you want no yes and what about some other games that you cry like that no Sophia's mom never over top of me what else do you play football you sing how do you do that how to get a ball and some something been wanting and some be another on another team and then somebody roll the ball and then posed to kick in and run to base score pull up if you are hit the Press before they get on base stay out and one who get the most points ban Deborah play is in a Kick the Can no no nobody on your street let's watch TV I want in the morning I get up I watch baby death cartoon castle I watch mr. Ed the first stone the hell is McHale's Navy and My Favorite Martian can you tell me about an episode that you thought of you can love any one of those four boys into something to tell me about it did you watch your dance moves yes she show cartoons one of us Papa what happened submarine came he was in the Navy and they saw some of them they stop fighting and Popeye spinach and took one to the water fights Somerville job was in it Bratz movie DMV I have a book at school called above the clouds and Ivy hello from The Rose what's the story about Adventures can you tell me about anymore my mom in Wonder books is about a this this lady she went to the railroad station and got this Austin he was in a circus but there was no more circus or is he still going to the store and he took an egg to man watch they try to get it I smile and then I went home that song did you ever have a pet yes I had a dog before the cat before she got caught he got caught up in a you went to playground he followed that he got caught up in a fence and then I had a dog before his name was black and he was scared to go out in the front of my father took him to the dog pound Martin somebody came and got them to take me to try to take them off, he wouldn't come out front show me about your school what can you tell me about it has another preschool on the other side of it what do you study math history meaning Cyrus Barry Allen what do you like to do about school read map and did you ever have a teacher who who yeah hello miss you be bad she holler at you if you don't be quiet she have a big stick and should hit you with give me a holler at you what if I throw up after school what do the kids do sometimes stay at school and play on the moons around some of us go home do I need to go home no job Dan House of cool the favorite teacher nice a man misses the singer she don't haul at you at work to do she lets you draw and so if you have a cold bath when you ask her she can't let you go you really didn't like play a trick on any of your teachers the play some on the children like what kind of a safety pin and put some paper over and sticking in Deaconess somebody 10 when they sit down they start the holler the TV show phone number there a bunch of kids that you always hang around no friends worm name a girl, we're naming a jump Noel we play tag how do you spell somebody Hector like repair tagging somebody last one who like to a tree is it and then somebody everybody get off base and whoever they touch without a person that it touch somebody else that person that touches it is there anyone in the group of friends that you have that's like the big eater the truth now how about your kids and it anyway or anything that a person has to do to join your group of friends now how would your kids join it the first underground came in the neighborhood we asked if she won't play she said yes I don't know what I want to be I want to be a lot of things like what kind of things do you say where can I work in a Safeway beyonders where can I be a secretary how long you think it'll take to be any of these things but he has to do go to college all the money in the world what would you do with it I'll text I'll go downtown and buy me some shoes and some clothes to wear I'll call the store and buy some food what kind of things what would you burn with blister meatloaf chicken cup of popcorn sausage bacon never hot doll sweet peas cabbage carrot you're the worst around the house sometimes app sometime I have my mama cook sometime I ask wash the dishes mop Glo how does your family celebrate the holidays what holidays today Braden Halladay what do you do when they say time of the year for Fourth of July gudetama flower what Christmas time gorgeous people go far awesome assistant celebrate Thanksgiving year off from school over yes all I do is dress up and go out check with you what are you doing when you get that what kind of things do you gypsy old woman hobo how to dress up as hips hippie gypsy where'd you go I went to a party 9mm campout who are the party who is bear what you doing so it will stay at for a labor or someone who make up their case we had not known as we go put some on us you going to pull it up on a stage and show people out costumes see who had the best costume who is the best girl do they have anything to eat or drink when they have cupcake apple juice some Kane Annapolis camel walk Boogaloo popcorn what are you doing what are you doing winter are you with us if your girlfriends or what sometime I be a little girl live on stage okay then will you ever in a situation where you thought you might. I don't know about we was Oma father mother house and then we was moving and then we will pass this ghost town and I felt I was on the back of the truck and I feel dolphins and to discuss how and it goes to come to the steps now vagina walk I couldn't hardly walk and I got scared when you woke up I will gladly what do you think about what is just Superstition like I said if you break a mirror do you have enough and I said you walk around a pole you have bad knock and you walk on the loud you happen. a lalalala\n"
     ]
    }
   ],
   "source": [
    "for audio_file in AUDIO_FILES:\n",
    "    full_file_path = os.path.join(URI_ROOT, audio_file)\n",
    "    transcript = get_single_transcript(full_file_path)\n",
    "    #To do: Any pre-processing on the transcript\n",
    "    print(transcript)"
   ]
  }
 ],
 "metadata": {
  "kernelspec": {
   "display_name": "aave_speech_rec",
   "language": "python",
   "name": "aave_speech_rec"
  },
  "language_info": {
   "codemirror_mode": {
    "name": "ipython",
    "version": 3
   },
   "file_extension": ".py",
   "mimetype": "text/x-python",
   "name": "python",
   "nbconvert_exporter": "python",
   "pygments_lexer": "ipython3",
   "version": "3.8.3"
  }
 },
 "nbformat": 4,
 "nbformat_minor": 2
}

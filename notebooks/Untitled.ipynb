{
 "cells": [
  {
   "cell_type": "code",
   "execution_count": 29,
   "metadata": {},
   "outputs": [],
   "source": [
    "import pandas as pd\n",
    "import numpy as np\n",
    "import os"
   ]
  },
  {
   "cell_type": "code",
   "execution_count": 30,
   "metadata": {},
   "outputs": [
    {
     "name": "stdout",
     "output_type": "stream",
     "text": [
      "number of examples:  8446\n",
      "Total duration:  38.576881944444445\n"
     ]
    },
    {
     "data": {
      "text/html": [
       "<div>\n",
       "<style scoped>\n",
       "    .dataframe tbody tr th:only-of-type {\n",
       "        vertical-align: middle;\n",
       "    }\n",
       "\n",
       "    .dataframe tbody tr th {\n",
       "        vertical-align: top;\n",
       "    }\n",
       "\n",
       "    .dataframe thead th {\n",
       "        text-align: right;\n",
       "    }\n",
       "</style>\n",
       "<table border=\"1\" class=\"dataframe\">\n",
       "  <thead>\n",
       "    <tr style=\"text-align: right;\">\n",
       "      <th></th>\n",
       "      <th>wav_file</th>\n",
       "      <th>txt_file</th>\n",
       "      <th>groundtruth_text</th>\n",
       "      <th>cleaned_text</th>\n",
       "      <th>duration</th>\n",
       "    </tr>\n",
       "  </thead>\n",
       "  <tbody>\n",
       "    <tr>\n",
       "      <th>0</th>\n",
       "      <td>data_processed_voc/wav/voc_0_part_1.wav</td>\n",
       "      <td>data_processed_voc/txt/voc_0_part_1.txt</td>\n",
       "      <td>He's also a historian. He's he is the presiden...</td>\n",
       "      <td>HE'S ALSO A HISTORIAN HE'S HE IS THE PRESIDENT...</td>\n",
       "      <td>6.006</td>\n",
       "    </tr>\n",
       "    <tr>\n",
       "      <th>1</th>\n",
       "      <td>data_processed_voc/wav/voc_0_part_2.wav</td>\n",
       "      <td>data_processed_voc/txt/voc_0_part_2.txt</td>\n",
       "      <td>Alright. That's good. So you were born in Redd...</td>\n",
       "      <td>ALRIGHT THAT'S GOOD SO YOU WERE BORN IN REDDIN...</td>\n",
       "      <td>6.433</td>\n",
       "    </tr>\n",
       "    <tr>\n",
       "      <th>2</th>\n",
       "      <td>data_processed_voc/wav/voc_0_part_3.wav</td>\n",
       "      <td>data_processed_voc/txt/voc_0_part_3.txt</td>\n",
       "      <td>Because we had just one hospital and back then...</td>\n",
       "      <td>BECAUSE WE HAD JUST ONE HOSPITAL AND BACK THEN...</td>\n",
       "      <td>8.561</td>\n",
       "    </tr>\n",
       "    <tr>\n",
       "      <th>3</th>\n",
       "      <td>data_processed_voc/wav/voc_0_part_4.wav</td>\n",
       "      <td>data_processed_voc/txt/voc_0_part_4.txt</td>\n",
       "      <td>actually south Redding uh wasn't uptown but it...</td>\n",
       "      <td>ACTUALLY SOUTH REDDING UH WASN'T UPTOWN BUT IT...</td>\n",
       "      <td>6.121</td>\n",
       "    </tr>\n",
       "    <tr>\n",
       "      <th>4</th>\n",
       "      <td>data_processed_voc/wav/voc_0_part_5.wav</td>\n",
       "      <td>data_processed_voc/txt/voc_0_part_5.txt</td>\n",
       "      <td>Well Lola A little uh Pine Street School that ...</td>\n",
       "      <td>WELL LOLA A LITTLE UH PINE STREET SCHOOL THAT ...</td>\n",
       "      <td>11.910</td>\n",
       "    </tr>\n",
       "  </tbody>\n",
       "</table>\n",
       "</div>"
      ],
      "text/plain": [
       "                                  wav_file  \\\n",
       "0  data_processed_voc/wav/voc_0_part_1.wav   \n",
       "1  data_processed_voc/wav/voc_0_part_2.wav   \n",
       "2  data_processed_voc/wav/voc_0_part_3.wav   \n",
       "3  data_processed_voc/wav/voc_0_part_4.wav   \n",
       "4  data_processed_voc/wav/voc_0_part_5.wav   \n",
       "\n",
       "                                  txt_file  \\\n",
       "0  data_processed_voc/txt/voc_0_part_1.txt   \n",
       "1  data_processed_voc/txt/voc_0_part_2.txt   \n",
       "2  data_processed_voc/txt/voc_0_part_3.txt   \n",
       "3  data_processed_voc/txt/voc_0_part_4.txt   \n",
       "4  data_processed_voc/txt/voc_0_part_5.txt   \n",
       "\n",
       "                                    groundtruth_text  \\\n",
       "0  He's also a historian. He's he is the presiden...   \n",
       "1  Alright. That's good. So you were born in Redd...   \n",
       "2  Because we had just one hospital and back then...   \n",
       "3  actually south Redding uh wasn't uptown but it...   \n",
       "4  Well Lola A little uh Pine Street School that ...   \n",
       "\n",
       "                                        cleaned_text  duration  \n",
       "0  HE'S ALSO A HISTORIAN HE'S HE IS THE PRESIDENT...     6.006  \n",
       "1  ALRIGHT THAT'S GOOD SO YOU WERE BORN IN REDDIN...     6.433  \n",
       "2  BECAUSE WE HAD JUST ONE HOSPITAL AND BACK THEN...     8.561  \n",
       "3  ACTUALLY SOUTH REDDING UH WASN'T UPTOWN BUT IT...     6.121  \n",
       "4  WELL LOLA A LITTLE UH PINE STREET SCHOOL THAT ...    11.910  "
      ]
     },
     "execution_count": 30,
     "metadata": {},
     "output_type": "execute_result"
    }
   ],
   "source": [
    "voc_all = pd.read_csv(\"../manifests/voc_manifest.csv\")\n",
    "print(\"number of examples: \", len(voc_all))\n",
    "print(\"Total duration: \", voc_all.duration.sum()/3600) #convert units to hours\n",
    "voc_all.head()"
   ]
  },
  {
   "cell_type": "code",
   "execution_count": 31,
   "metadata": {},
   "outputs": [
    {
     "name": "stdout",
     "output_type": "stream",
     "text": [
      "number of examples:  8180\n",
      "Total duration:  37.25479416666667\n"
     ]
    },
    {
     "data": {
      "text/html": [
       "<div>\n",
       "<style scoped>\n",
       "    .dataframe tbody tr th:only-of-type {\n",
       "        vertical-align: middle;\n",
       "    }\n",
       "\n",
       "    .dataframe tbody tr th {\n",
       "        vertical-align: top;\n",
       "    }\n",
       "\n",
       "    .dataframe thead th {\n",
       "        text-align: right;\n",
       "    }\n",
       "</style>\n",
       "<table border=\"1\" class=\"dataframe\">\n",
       "  <thead>\n",
       "    <tr style=\"text-align: right;\">\n",
       "      <th></th>\n",
       "      <th>wav_file</th>\n",
       "      <th>txt_file</th>\n",
       "      <th>groundtruth_text</th>\n",
       "      <th>cleaned_text</th>\n",
       "      <th>duration</th>\n",
       "    </tr>\n",
       "  </thead>\n",
       "  <tbody>\n",
       "    <tr>\n",
       "      <th>0</th>\n",
       "      <td>data_processed_voc/wav/voc_0_part_1.wav</td>\n",
       "      <td>data_processed_voc/txt/voc_0_part_1.txt</td>\n",
       "      <td>He's also a historian. He's he is the presiden...</td>\n",
       "      <td>HE'S ALSO A HISTORIAN HE'S HE IS THE PRESIDENT...</td>\n",
       "      <td>6.006</td>\n",
       "    </tr>\n",
       "    <tr>\n",
       "      <th>1</th>\n",
       "      <td>data_processed_voc/wav/voc_0_part_2.wav</td>\n",
       "      <td>data_processed_voc/txt/voc_0_part_2.txt</td>\n",
       "      <td>Alright. That's good. So you were born in Redd...</td>\n",
       "      <td>ALRIGHT THAT'S GOOD SO YOU WERE BORN IN REDDIN...</td>\n",
       "      <td>6.433</td>\n",
       "    </tr>\n",
       "    <tr>\n",
       "      <th>2</th>\n",
       "      <td>data_processed_voc/wav/voc_0_part_3.wav</td>\n",
       "      <td>data_processed_voc/txt/voc_0_part_3.txt</td>\n",
       "      <td>Because we had just one hospital and back then...</td>\n",
       "      <td>BECAUSE WE HAD JUST ONE HOSPITAL AND BACK THEN...</td>\n",
       "      <td>8.561</td>\n",
       "    </tr>\n",
       "    <tr>\n",
       "      <th>3</th>\n",
       "      <td>data_processed_voc/wav/voc_0_part_4.wav</td>\n",
       "      <td>data_processed_voc/txt/voc_0_part_4.txt</td>\n",
       "      <td>actually south Redding uh wasn't uptown but it...</td>\n",
       "      <td>ACTUALLY SOUTH REDDING UH WASN'T UPTOWN BUT IT...</td>\n",
       "      <td>6.121</td>\n",
       "    </tr>\n",
       "    <tr>\n",
       "      <th>4</th>\n",
       "      <td>data_processed_voc/wav/voc_0_part_5.wav</td>\n",
       "      <td>data_processed_voc/txt/voc_0_part_5.txt</td>\n",
       "      <td>Well Lola A little uh Pine Street School that ...</td>\n",
       "      <td>WELL LOLA A LITTLE UH PINE STREET SCHOOL THAT ...</td>\n",
       "      <td>11.910</td>\n",
       "    </tr>\n",
       "  </tbody>\n",
       "</table>\n",
       "</div>"
      ],
      "text/plain": [
       "                                  wav_file  \\\n",
       "0  data_processed_voc/wav/voc_0_part_1.wav   \n",
       "1  data_processed_voc/wav/voc_0_part_2.wav   \n",
       "2  data_processed_voc/wav/voc_0_part_3.wav   \n",
       "3  data_processed_voc/wav/voc_0_part_4.wav   \n",
       "4  data_processed_voc/wav/voc_0_part_5.wav   \n",
       "\n",
       "                                  txt_file  \\\n",
       "0  data_processed_voc/txt/voc_0_part_1.txt   \n",
       "1  data_processed_voc/txt/voc_0_part_2.txt   \n",
       "2  data_processed_voc/txt/voc_0_part_3.txt   \n",
       "3  data_processed_voc/txt/voc_0_part_4.txt   \n",
       "4  data_processed_voc/txt/voc_0_part_5.txt   \n",
       "\n",
       "                                    groundtruth_text  \\\n",
       "0  He's also a historian. He's he is the presiden...   \n",
       "1  Alright. That's good. So you were born in Redd...   \n",
       "2  Because we had just one hospital and back then...   \n",
       "3  actually south Redding uh wasn't uptown but it...   \n",
       "4  Well Lola A little uh Pine Street School that ...   \n",
       "\n",
       "                                        cleaned_text  duration  \n",
       "0  HE'S ALSO A HISTORIAN HE'S HE IS THE PRESIDENT...     6.006  \n",
       "1  ALRIGHT THAT'S GOOD SO YOU WERE BORN IN REDDIN...     6.433  \n",
       "2  BECAUSE WE HAD JUST ONE HOSPITAL AND BACK THEN...     8.561  \n",
       "3  ACTUALLY SOUTH REDDING UH WASN'T UPTOWN BUT IT...     6.121  \n",
       "4  WELL LOLA A LITTLE UH PINE STREET SCHOOL THAT ...    11.910  "
      ]
     },
     "execution_count": 31,
     "metadata": {},
     "output_type": "execute_result"
    }
   ],
   "source": [
    "voc_all = voc_all[voc_all[\"wav_file\"].str.split('_').str.get(3) != '3'] #Remove Spenser Deardoff (transcript + wav file don't match up)\n",
    "voc_all = voc_all[voc_all[\"wav_file\"].str.split('_').str.get(3) != '5'] #Remove Eric Heryford (wav file has some silences)\n",
    "print(\"number of examples: \", len(voc_all))\n",
    "print(\"Total duration: \", voc_all.duration.sum()/3600) #convert units to hours\n",
    "voc_all.head()"
   ]
  },
  {
   "cell_type": "code",
   "execution_count": 32,
   "metadata": {},
   "outputs": [
    {
     "data": {
      "text/html": [
       "<div>\n",
       "<style scoped>\n",
       "    .dataframe tbody tr th:only-of-type {\n",
       "        vertical-align: middle;\n",
       "    }\n",
       "\n",
       "    .dataframe tbody tr th {\n",
       "        vertical-align: top;\n",
       "    }\n",
       "\n",
       "    .dataframe thead th {\n",
       "        text-align: right;\n",
       "    }\n",
       "</style>\n",
       "<table border=\"1\" class=\"dataframe\">\n",
       "  <thead>\n",
       "    <tr style=\"text-align: right;\">\n",
       "      <th></th>\n",
       "      <th>wav_file</th>\n",
       "      <th>txt_file</th>\n",
       "      <th>groundtruth_text</th>\n",
       "      <th>cleaned_text</th>\n",
       "      <th>duration</th>\n",
       "    </tr>\n",
       "  </thead>\n",
       "  <tbody>\n",
       "    <tr>\n",
       "      <th>0</th>\n",
       "      <td>../data_processed_voc/wav/voc_0_part_1.wav</td>\n",
       "      <td>../data_processed_voc/txt/voc_0_part_1.txt</td>\n",
       "      <td>He's also a historian. He's he is the presiden...</td>\n",
       "      <td>HE'S ALSO A HISTORIAN HE'S HE IS THE PRESIDENT...</td>\n",
       "      <td>6.006</td>\n",
       "    </tr>\n",
       "    <tr>\n",
       "      <th>1</th>\n",
       "      <td>../data_processed_voc/wav/voc_0_part_2.wav</td>\n",
       "      <td>../data_processed_voc/txt/voc_0_part_2.txt</td>\n",
       "      <td>Alright. That's good. So you were born in Redd...</td>\n",
       "      <td>ALRIGHT THAT'S GOOD SO YOU WERE BORN IN REDDIN...</td>\n",
       "      <td>6.433</td>\n",
       "    </tr>\n",
       "    <tr>\n",
       "      <th>2</th>\n",
       "      <td>../data_processed_voc/wav/voc_0_part_3.wav</td>\n",
       "      <td>../data_processed_voc/txt/voc_0_part_3.txt</td>\n",
       "      <td>Because we had just one hospital and back then...</td>\n",
       "      <td>BECAUSE WE HAD JUST ONE HOSPITAL AND BACK THEN...</td>\n",
       "      <td>8.561</td>\n",
       "    </tr>\n",
       "    <tr>\n",
       "      <th>3</th>\n",
       "      <td>../data_processed_voc/wav/voc_0_part_4.wav</td>\n",
       "      <td>../data_processed_voc/txt/voc_0_part_4.txt</td>\n",
       "      <td>actually south Redding uh wasn't uptown but it...</td>\n",
       "      <td>ACTUALLY SOUTH REDDING UH WASN'T UPTOWN BUT IT...</td>\n",
       "      <td>6.121</td>\n",
       "    </tr>\n",
       "    <tr>\n",
       "      <th>4</th>\n",
       "      <td>../data_processed_voc/wav/voc_0_part_5.wav</td>\n",
       "      <td>../data_processed_voc/txt/voc_0_part_5.txt</td>\n",
       "      <td>Well Lola A little uh Pine Street School that ...</td>\n",
       "      <td>WELL LOLA A LITTLE UH PINE STREET SCHOOL THAT ...</td>\n",
       "      <td>11.910</td>\n",
       "    </tr>\n",
       "  </tbody>\n",
       "</table>\n",
       "</div>"
      ],
      "text/plain": [
       "                                     wav_file  \\\n",
       "0  ../data_processed_voc/wav/voc_0_part_1.wav   \n",
       "1  ../data_processed_voc/wav/voc_0_part_2.wav   \n",
       "2  ../data_processed_voc/wav/voc_0_part_3.wav   \n",
       "3  ../data_processed_voc/wav/voc_0_part_4.wav   \n",
       "4  ../data_processed_voc/wav/voc_0_part_5.wav   \n",
       "\n",
       "                                     txt_file  \\\n",
       "0  ../data_processed_voc/txt/voc_0_part_1.txt   \n",
       "1  ../data_processed_voc/txt/voc_0_part_2.txt   \n",
       "2  ../data_processed_voc/txt/voc_0_part_3.txt   \n",
       "3  ../data_processed_voc/txt/voc_0_part_4.txt   \n",
       "4  ../data_processed_voc/txt/voc_0_part_5.txt   \n",
       "\n",
       "                                    groundtruth_text  \\\n",
       "0  He's also a historian. He's he is the presiden...   \n",
       "1  Alright. That's good. So you were born in Redd...   \n",
       "2  Because we had just one hospital and back then...   \n",
       "3  actually south Redding uh wasn't uptown but it...   \n",
       "4  Well Lola A little uh Pine Street School that ...   \n",
       "\n",
       "                                        cleaned_text  duration  \n",
       "0  HE'S ALSO A HISTORIAN HE'S HE IS THE PRESIDENT...     6.006  \n",
       "1  ALRIGHT THAT'S GOOD SO YOU WERE BORN IN REDDIN...     6.433  \n",
       "2  BECAUSE WE HAD JUST ONE HOSPITAL AND BACK THEN...     8.561  \n",
       "3  ACTUALLY SOUTH REDDING UH WASN'T UPTOWN BUT IT...     6.121  \n",
       "4  WELL LOLA A LITTLE UH PINE STREET SCHOOL THAT ...    11.910  "
      ]
     },
     "execution_count": 32,
     "metadata": {},
     "output_type": "execute_result"
    }
   ],
   "source": [
    "voc_all.wav_file = voc_all.wav_file.apply(lambda x: \"../\" + x)\n",
    "voc_all.txt_file = voc_all.txt_file.apply(lambda x: \"../\" + x)\n",
    "voc_all.head()"
   ]
  },
  {
   "cell_type": "code",
   "execution_count": 33,
   "metadata": {},
   "outputs": [
    {
     "name": "stdout",
     "output_type": "stream",
     "text": [
      "number of examples:  12571\n",
      "Total duration:  50.92669805555556\n"
     ]
    }
   ],
   "source": [
    "coraal_all = pd.read_csv(\"../manifests/coraal_manifest.csv\")\n",
    "print(\"number of examples: \", len(coraal_all))\n",
    "print(\"Total duration: \", coraal_all.duration.sum()/3600) #convert units to hours"
   ]
  },
  {
   "cell_type": "code",
   "execution_count": 34,
   "metadata": {},
   "outputs": [
    {
     "name": "stdout",
     "output_type": "stream",
     "text": [
      "1.8604488888888888\n",
      "35.39434527777778\n"
     ]
    }
   ],
   "source": [
    "test = voc_all.sample(frac = 0.05)\n",
    "voc_all.drop(test.index, inplace = True)\n",
    "print(test.duration.sum()/3600)\n",
    "print(voc_all.duration.sum()/3600)"
   ]
  },
  {
   "cell_type": "code",
   "execution_count": 35,
   "metadata": {},
   "outputs": [],
   "source": [
    "test.to_csv(\"../manifests/voc_test_manifest.csv\", index = False, header = False)"
   ]
  },
  {
   "cell_type": "code",
   "execution_count": 36,
   "metadata": {},
   "outputs": [
    {
     "name": "stdout",
     "output_type": "stream",
     "text": [
      "1.7613119444444445\n",
      "33.63303333333334\n"
     ]
    }
   ],
   "source": [
    "val = voc_all.sample(frac = 0.05)\n",
    "voc_all.drop(val.index, inplace = True)\n",
    "print(val.duration.sum()/3600)\n",
    "print(voc_all.duration.sum()/3600)"
   ]
  },
  {
   "cell_type": "code",
   "execution_count": 37,
   "metadata": {},
   "outputs": [],
   "source": [
    "val.to_csv(\"../manifests/voc_val_manifest.csv\", index = False, header = False)\n",
    "voc_all.to_csv(\"../manifests/voc_train_manifest.csv\", index = False, header = False)"
   ]
  },
  {
   "cell_type": "code",
   "execution_count": null,
   "metadata": {},
   "outputs": [],
   "source": []
  }
 ],
 "metadata": {
  "kernelspec": {
   "display_name": "base_kernel",
   "language": "python",
   "name": "base"
  },
  "language_info": {
   "codemirror_mode": {
    "name": "ipython",
    "version": 3
   },
   "file_extension": ".py",
   "mimetype": "text/x-python",
   "name": "python",
   "nbconvert_exporter": "python",
   "pygments_lexer": "ipython3",
   "version": "3.7.6"
  }
 },
 "nbformat": 4,
 "nbformat_minor": 4
}

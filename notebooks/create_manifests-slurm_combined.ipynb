{
 "cells": [
  {
   "cell_type": "code",
   "execution_count": 1,
   "metadata": {},
   "outputs": [],
   "source": [
    "import pandas as pd\n",
    "from sklearn.model_selection import train_test_split\n",
    "from sklearn.utils import shuffle"
   ]
  },
  {
   "cell_type": "code",
   "execution_count": 2,
   "metadata": {},
   "outputs": [
    {
     "name": "stdout",
     "output_type": "stream",
     "text": [
      "8211\n",
      "457\n",
      "457\n"
     ]
    }
   ],
   "source": [
    "coraal_train = pd.read_csv(\"../manifests_slurm/coraal_train_manifest.csv\", header = None)\n",
    "coraal_val = pd.read_csv(\"../manifests_slurm/coraal_val_manifest.csv\", header = None)\n",
    "coraal_test = pd.read_csv(\"../manifests_slurm/coraal_test_manifest.csv\", header = None)\n",
    "print(len(coraal_train))\n",
    "print(len(coraal_val))\n",
    "print(len(coraal_test))"
   ]
  },
  {
   "cell_type": "code",
   "execution_count": 3,
   "metadata": {},
   "outputs": [
    {
     "name": "stdout",
     "output_type": "stream",
     "text": [
      "7326\n",
      "408\n",
      "408\n"
     ]
    }
   ],
   "source": [
    "voc_train = pd.read_csv(\"../manifests_slurm/voc_train_manifest.csv\", header = None)\n",
    "voc_val = pd.read_csv(\"../manifests_slurm/voc_val_manifest.csv\", header = None)\n",
    "voc_test = pd.read_csv(\"../manifests_slurm/voc_test_manifest.csv\", header = None)\n",
    "print(len(voc_train))\n",
    "print(len(voc_val))\n",
    "print(len(voc_test))"
   ]
  },
  {
   "cell_type": "code",
   "execution_count": 4,
   "metadata": {},
   "outputs": [],
   "source": [
    "combined_train = shuffle(pd.concat([coraal_train, voc_train]), random_state = 1234)\n",
    "combined_val = shuffle(pd.concat([coraal_val, voc_val]), random_state = 1234)\n",
    "combined_test = shuffle(pd.concat([coraal_test, voc_test]), random_state = 1234)"
   ]
  },
  {
   "cell_type": "code",
   "execution_count": 5,
   "metadata": {},
   "outputs": [
    {
     "name": "stdout",
     "output_type": "stream",
     "text": [
      "15537\n",
      "865\n",
      "865\n"
     ]
    }
   ],
   "source": [
    "print(len(combined_train))\n",
    "print(len(combined_val))\n",
    "print(len(combined_test))"
   ]
  },
  {
   "cell_type": "code",
   "execution_count": 6,
   "metadata": {},
   "outputs": [
    {
     "data": {
      "text/html": [
       "<div>\n",
       "<style scoped>\n",
       "    .dataframe tbody tr th:only-of-type {\n",
       "        vertical-align: middle;\n",
       "    }\n",
       "\n",
       "    .dataframe tbody tr th {\n",
       "        vertical-align: top;\n",
       "    }\n",
       "\n",
       "    .dataframe thead th {\n",
       "        text-align: right;\n",
       "    }\n",
       "</style>\n",
       "<table border=\"1\" class=\"dataframe\">\n",
       "  <thead>\n",
       "    <tr style=\"text-align: right;\">\n",
       "      <th></th>\n",
       "      <th>0</th>\n",
       "      <th>1</th>\n",
       "      <th>2</th>\n",
       "      <th>3</th>\n",
       "      <th>4</th>\n",
       "      <th>5</th>\n",
       "    </tr>\n",
       "  </thead>\n",
       "  <tbody>\n",
       "    <tr>\n",
       "      <th>2462</th>\n",
       "      <td>/juice/scr/cpajot/data_processed_coraal/wav/DC...</td>\n",
       "      <td>/juice/scr/cpajot/data_processed_coraal/txt/DC...</td>\n",
       "      <td>RIGHT SO I GET TO SEE THEM PRETTY OFTEN MY F B...</td>\n",
       "      <td>1</td>\n",
       "      <td>[Right.] So I get to see them pretty often, my...</td>\n",
       "      <td>23.328</td>\n",
       "    </tr>\n",
       "    <tr>\n",
       "      <th>59</th>\n",
       "      <td>/juice/scr/cpajot/data_processed_voc/wav/voc_9...</td>\n",
       "      <td>/juice/scr/cpajot/data_processed_voc/txt/voc_9...</td>\n",
       "      <td>HOW DO YOU SAY A L M OH N D AND I SAID ALMOND</td>\n",
       "      <td>0</td>\n",
       "      <td>how do you say A L M O N D? And I said almond</td>\n",
       "      <td>6.098</td>\n",
       "    </tr>\n",
       "    <tr>\n",
       "      <th>8146</th>\n",
       "      <td>/juice/scr/cpajot/data_processed_coraal/wav/DC...</td>\n",
       "      <td>/juice/scr/cpajot/data_processed_coraal/txt/DC...</td>\n",
       "      <td>HM I WAS EIGHTEEN TURNING NINETEEN HAD MY SURG...</td>\n",
       "      <td>1</td>\n",
       "      <td>Hm. I was eighteen, turning nineteen. Had my s...</td>\n",
       "      <td>21.328</td>\n",
       "    </tr>\n",
       "    <tr>\n",
       "      <th>6552</th>\n",
       "      <td>/juice/scr/cpajot/data_processed_coraal/wav/RO...</td>\n",
       "      <td>/juice/scr/cpajot/data_processed_coraal/txt/RO...</td>\n",
       "      <td>MORE S MORE SO THAN THERE WOULD BE IN THE SOUT...</td>\n",
       "      <td>1</td>\n",
       "      <td>more s- more so than there would be in the sou...</td>\n",
       "      <td>21.024</td>\n",
       "    </tr>\n",
       "    <tr>\n",
       "      <th>1978</th>\n",
       "      <td>/juice/scr/cpajot/data_processed_coraal/wav/PR...</td>\n",
       "      <td>/juice/scr/cpajot/data_processed_coraal/txt/PR...</td>\n",
       "      <td>GET TOGETHER AND JUST THROW THE FOOTBALL AND W...</td>\n",
       "      <td>1</td>\n",
       "      <td>get together and just throw the football and w...</td>\n",
       "      <td>6.459</td>\n",
       "    </tr>\n",
       "  </tbody>\n",
       "</table>\n",
       "</div>"
      ],
      "text/plain": [
       "                                                      0  \\\n",
       "2462  /juice/scr/cpajot/data_processed_coraal/wav/DC...   \n",
       "59    /juice/scr/cpajot/data_processed_voc/wav/voc_9...   \n",
       "8146  /juice/scr/cpajot/data_processed_coraal/wav/DC...   \n",
       "6552  /juice/scr/cpajot/data_processed_coraal/wav/RO...   \n",
       "1978  /juice/scr/cpajot/data_processed_coraal/wav/PR...   \n",
       "\n",
       "                                                      1  \\\n",
       "2462  /juice/scr/cpajot/data_processed_coraal/txt/DC...   \n",
       "59    /juice/scr/cpajot/data_processed_voc/txt/voc_9...   \n",
       "8146  /juice/scr/cpajot/data_processed_coraal/txt/DC...   \n",
       "6552  /juice/scr/cpajot/data_processed_coraal/txt/RO...   \n",
       "1978  /juice/scr/cpajot/data_processed_coraal/txt/PR...   \n",
       "\n",
       "                                                      2  3  \\\n",
       "2462  RIGHT SO I GET TO SEE THEM PRETTY OFTEN MY F B...  1   \n",
       "59        HOW DO YOU SAY A L M OH N D AND I SAID ALMOND  0   \n",
       "8146  HM I WAS EIGHTEEN TURNING NINETEEN HAD MY SURG...  1   \n",
       "6552  MORE S MORE SO THAN THERE WOULD BE IN THE SOUT...  1   \n",
       "1978  GET TOGETHER AND JUST THROW THE FOOTBALL AND W...  1   \n",
       "\n",
       "                                                      4       5  \n",
       "2462  [Right.] So I get to see them pretty often, my...  23.328  \n",
       "59        how do you say A L M O N D? And I said almond   6.098  \n",
       "8146  Hm. I was eighteen, turning nineteen. Had my s...  21.328  \n",
       "6552  more s- more so than there would be in the sou...  21.024  \n",
       "1978  get together and just throw the football and w...   6.459  "
      ]
     },
     "execution_count": 6,
     "metadata": {},
     "output_type": "execute_result"
    }
   ],
   "source": [
    "combined_train.head()"
   ]
  },
  {
   "cell_type": "code",
   "execution_count": 7,
   "metadata": {},
   "outputs": [
    {
     "name": "stdout",
     "output_type": "stream",
     "text": [
      "66.65341083333334\n",
      "3.6059616666666665\n",
      "3.7107308333333338\n"
     ]
    }
   ],
   "source": [
    "print(combined_train.iloc[:, 5].sum()/3600)\n",
    "print(combined_val.iloc[:, 5].sum()/3600)\n",
    "print(combined_test.iloc[:, 5].sum()/3600)"
   ]
  },
  {
   "cell_type": "code",
   "execution_count": 8,
   "metadata": {},
   "outputs": [],
   "source": [
    "combined_train.to_csv(\"../manifests_slurm/combined_train_manifest.csv\", header = False, index = False)\n",
    "combined_val.to_csv(\"../manifests_slurm/combined_val_manifest.csv\", header = False, index = False)\n",
    "combined_test.to_csv(\"../manifests_slurm/combined_test_manifest.csv\", header = False, index = False)"
   ]
  },
  {
   "cell_type": "code",
   "execution_count": null,
   "metadata": {},
   "outputs": [],
   "source": []
  }
 ],
 "metadata": {
  "kernelspec": {
   "display_name": "aave_speech_rec",
   "language": "python",
   "name": "aave_speech_rec"
  },
  "language_info": {
   "codemirror_mode": {
    "name": "ipython",
    "version": 3
   },
   "file_extension": ".py",
   "mimetype": "text/x-python",
   "name": "python",
   "nbconvert_exporter": "python",
   "pygments_lexer": "ipython3",
   "version": "3.8.3"
  }
 },
 "nbformat": 4,
 "nbformat_minor": 4
}

{
 "cells": [
  {
   "cell_type": "code",
   "execution_count": 1,
   "metadata": {},
   "outputs": [],
   "source": [
    "import pandas as pd\n",
    "import os\n",
    "import numpy as np"
   ]
  },
  {
   "cell_type": "code",
   "execution_count": 2,
   "metadata": {},
   "outputs": [],
   "source": [
    "TRAIN_INDEX_1 = '../wsj/13-34.1/wsj1/doc/indices/si_tr_s.ndx'\n",
    "TRAIN_INDEX_2 = '../wsj/11-13.1/wsj0/doc/indices/train/tr_s_wv1.ndx'\n",
    "\n",
    "VAL_INDEX = '../wsj/13-34.1/wsj1/doc/indices/h1_p0.ndx'\n",
    "\n",
    "TRAIN_1_BASE_DIR = '/u/scr/corpora/ldc/1994/LDC94S13A/csr_2_comp/'\n",
    "VAL_BASE_DIR = TRAIN_1_BASE_DIR\n",
    "TRAIN_2_BASE_DIR = '/u/scr/corpora/ldc/1993/LDC93S6A/csr_1/'\n",
    "\n",
    "TRAIN_OUTPUT_DIR = '/juice/scr/aharris6/wsj/train/wav/'\n",
    "VAL_OUTPUT_DIR = '/juice/scr/aharris6/wsj/val/wav/'\n",
    "EXCLUDE_PATH = '/u/scr/corpora/ldc/1993/LDC93S6A/csr_1/11-2.1/wsj0/si_tr_s/401'"
   ]
  },
  {
   "cell_type": "code",
   "execution_count": 3,
   "metadata": {},
   "outputs": [],
   "source": [
    "def get_all_wav_files_in_train(index_path, wsj0 = False):\n",
    "    index_file = open(index_path, 'r')\n",
    "    df_dict = {'wav_file': [], 'id': [], 'raw_filepath': []}\n",
    "    for line in index_file.readlines():\n",
    "        #skip comments in index file, which are denoted using the character ';'\n",
    "        if line[0] == \";\": continue\n",
    "        disc_id, filepath = [item.strip() for item in line.split(\":\")]\n",
    "        components = filepath.split(\"/\")\n",
    "        identifier = components[-1].split(\".\")[0]\n",
    "        df_dict['wav_file'].append(filepath)\n",
    "        df_dict['id'].append(identifier)\n",
    "        if wsj0:   \n",
    "            df_dict['raw_filepath'].append(disc_id + \"/\" + filepath)\n",
    "        else:\n",
    "            df_dict['raw_filepath'].append(disc_id + filepath)\n",
    "    return pd.DataFrame(df_dict)"
   ]
  },
  {
   "cell_type": "code",
   "execution_count": 4,
   "metadata": {},
   "outputs": [],
   "source": [
    "def format_disc_name(filepath):\n",
    "    disc = filepath.split(\"/\")\n",
    "    components = disc[0].split(\"_\")\n",
    "    new_str = components[0] + \"-\" + components[1] + \".\" + components[2]\n",
    "    final_list = [new_str] + disc[1:]\n",
    "    return  \"/\".join(final_list)\n",
    "\n",
    "def format_filepath(df,  base_dir, output_dir, col_name = 'raw_filepath'):\n",
    "    df[col_name] = df[col_name].apply(format_disc_name)\n",
    "    df['input_filepath'] = df[col_name].apply(lambda x: base_dir + x)\n",
    "    df['output_filepath'] = df[col_name].apply(lambda x: output_dir + \"/\".join(x.split(\"/\")[-2:]))\n",
    "    df['output_filepath'] = df['output_filepath'].apply(lambda x: x[:-4] +\".wav\")\n",
    "    return df\n",
    "\n",
    "def drop_rows(df):\n",
    "    drop_indices = []\n",
    "    for i, row in df.iterrows():\n",
    "        input_str = row.input_filepath\n",
    "        if input_str.startswith(EXCLUDE_PATH):\n",
    "            drop_indices.append(i)\n",
    "    df.drop(drop_indices, inplace = True)\n",
    "    \n",
    "    "
   ]
  },
  {
   "cell_type": "code",
   "execution_count": 5,
   "metadata": {},
   "outputs": [
    {
     "ename": "FileNotFoundError",
     "evalue": "[Errno 2] No such file or directory: '../wsj/13-34.1/wsj1/doc/indices/si_tr_s.ndx'",
     "output_type": "error",
     "traceback": [
      "\u001b[0;31m---------------------------------------------------------------------------\u001b[0m",
      "\u001b[0;31mFileNotFoundError\u001b[0m                         Traceback (most recent call last)",
      "\u001b[0;32m<ipython-input-5-6d2160e20101>\u001b[0m in \u001b[0;36m<module>\u001b[0;34m\u001b[0m\n\u001b[0;32m----> 1\u001b[0;31m \u001b[0mtrain1\u001b[0m \u001b[0;34m=\u001b[0m \u001b[0mget_all_wav_files_in_train\u001b[0m\u001b[0;34m(\u001b[0m\u001b[0mTRAIN_INDEX_1\u001b[0m\u001b[0;34m)\u001b[0m\u001b[0;34m\u001b[0m\u001b[0;34m\u001b[0m\u001b[0m\n\u001b[0m\u001b[1;32m      2\u001b[0m \u001b[0mtrain1\u001b[0m \u001b[0;34m=\u001b[0m \u001b[0mformat_filepath\u001b[0m\u001b[0;34m(\u001b[0m\u001b[0mtrain1\u001b[0m\u001b[0;34m,\u001b[0m \u001b[0mTRAIN_1_BASE_DIR\u001b[0m\u001b[0;34m,\u001b[0m \u001b[0mTRAIN_OUTPUT_DIR\u001b[0m\u001b[0;34m)\u001b[0m\u001b[0;34m\u001b[0m\u001b[0;34m\u001b[0m\u001b[0m\n\u001b[1;32m      3\u001b[0m \u001b[0mdrop_rows\u001b[0m\u001b[0;34m(\u001b[0m\u001b[0mtrain1\u001b[0m\u001b[0;34m)\u001b[0m\u001b[0;34m\u001b[0m\u001b[0;34m\u001b[0m\u001b[0m\n\u001b[1;32m      4\u001b[0m \u001b[0mtrain1\u001b[0m\u001b[0;34m.\u001b[0m\u001b[0mhead\u001b[0m\u001b[0;34m(\u001b[0m\u001b[0;34m)\u001b[0m\u001b[0;34m\u001b[0m\u001b[0;34m\u001b[0m\u001b[0m\n",
      "\u001b[0;32m<ipython-input-3-d0707b5700a8>\u001b[0m in \u001b[0;36mget_all_wav_files_in_train\u001b[0;34m(index_path, wsj0)\u001b[0m\n\u001b[1;32m      1\u001b[0m \u001b[0;32mdef\u001b[0m \u001b[0mget_all_wav_files_in_train\u001b[0m\u001b[0;34m(\u001b[0m\u001b[0mindex_path\u001b[0m\u001b[0;34m,\u001b[0m \u001b[0mwsj0\u001b[0m \u001b[0;34m=\u001b[0m \u001b[0;32mFalse\u001b[0m\u001b[0;34m)\u001b[0m\u001b[0;34m:\u001b[0m\u001b[0;34m\u001b[0m\u001b[0;34m\u001b[0m\u001b[0m\n\u001b[0;32m----> 2\u001b[0;31m     \u001b[0mindex_file\u001b[0m \u001b[0;34m=\u001b[0m \u001b[0mopen\u001b[0m\u001b[0;34m(\u001b[0m\u001b[0mindex_path\u001b[0m\u001b[0;34m,\u001b[0m \u001b[0;34m'r'\u001b[0m\u001b[0;34m)\u001b[0m\u001b[0;34m\u001b[0m\u001b[0;34m\u001b[0m\u001b[0m\n\u001b[0m\u001b[1;32m      3\u001b[0m     \u001b[0mdf_dict\u001b[0m \u001b[0;34m=\u001b[0m \u001b[0;34m{\u001b[0m\u001b[0;34m'wav_file'\u001b[0m\u001b[0;34m:\u001b[0m \u001b[0;34m[\u001b[0m\u001b[0;34m]\u001b[0m\u001b[0;34m,\u001b[0m \u001b[0;34m'id'\u001b[0m\u001b[0;34m:\u001b[0m \u001b[0;34m[\u001b[0m\u001b[0;34m]\u001b[0m\u001b[0;34m,\u001b[0m \u001b[0;34m'raw_filepath'\u001b[0m\u001b[0;34m:\u001b[0m \u001b[0;34m[\u001b[0m\u001b[0;34m]\u001b[0m\u001b[0;34m}\u001b[0m\u001b[0;34m\u001b[0m\u001b[0;34m\u001b[0m\u001b[0m\n\u001b[1;32m      4\u001b[0m     \u001b[0;32mfor\u001b[0m \u001b[0mline\u001b[0m \u001b[0;32min\u001b[0m \u001b[0mindex_file\u001b[0m\u001b[0;34m.\u001b[0m\u001b[0mreadlines\u001b[0m\u001b[0;34m(\u001b[0m\u001b[0;34m)\u001b[0m\u001b[0;34m:\u001b[0m\u001b[0;34m\u001b[0m\u001b[0;34m\u001b[0m\u001b[0m\n\u001b[1;32m      5\u001b[0m         \u001b[0;31m#skip comments in index file, which are denoted using the character ';'\u001b[0m\u001b[0;34m\u001b[0m\u001b[0;34m\u001b[0m\u001b[0;34m\u001b[0m\u001b[0m\n",
      "\u001b[0;31mFileNotFoundError\u001b[0m: [Errno 2] No such file or directory: '../wsj/13-34.1/wsj1/doc/indices/si_tr_s.ndx'"
     ]
    }
   ],
   "source": [
    "train1 = get_all_wav_files_in_train(TRAIN_INDEX_1)\n",
    "train1 = format_filepath(train1, TRAIN_1_BASE_DIR, TRAIN_OUTPUT_DIR)\n",
    "drop_rows(train1)\n",
    "train1.head()"
   ]
  },
  {
   "cell_type": "code",
   "execution_count": null,
   "metadata": {},
   "outputs": [],
   "source": [
    "train1.output_filepath[0]"
   ]
  },
  {
   "cell_type": "code",
   "execution_count": null,
   "metadata": {},
   "outputs": [],
   "source": [
    "train2 = get_all_wav_files_in_train(TRAIN_INDEX_2, wsj0 = True)\n",
    "train2 = format_filepath(train2, TRAIN_2_BASE_DIR, TRAIN_OUTPUT_DIR)\n",
    "print(len(train2))\n",
    "drop_rows(train2)\n",
    "print(len(train2))\n",
    "train2.head()"
   ]
  },
  {
   "cell_type": "code",
   "execution_count": null,
   "metadata": {},
   "outputs": [],
   "source": [
    "val = get_all_wav_files_in_train(VAL_INDEX, wsj0 = True)\n",
    "val = format_filepath(val, VAL_BASE_DIR, VAL_OUTPUT_DIR)\n",
    "val.head()"
   ]
  },
  {
   "cell_type": "code",
   "execution_count": null,
   "metadata": {},
   "outputs": [],
   "source": [
    "train2.output_filepath[100]"
   ]
  },
  {
   "cell_type": "code",
   "execution_count": null,
   "metadata": {},
   "outputs": [],
   "source": [
    "new_column_order = ['input_filepath', 'output_filepath', 'id']\n",
    "train1.drop(['wav_file', 'raw_filepath'], axis = 1, inplace = True)\n",
    "train1 = train1[new_column_order]\n",
    "train2.drop(['wav_file', 'raw_filepath'], axis = 1, inplace = True)\n",
    "train2 = train2[new_column_order]\n",
    "val.drop(['wav_file', 'raw_filepath'], axis = 1, inplace = True)\n",
    "val = val[new_column_order]\n",
    "train1.head()"
   ]
  },
  {
   "cell_type": "code",
   "execution_count": null,
   "metadata": {},
   "outputs": [],
   "source": [
    "train2.head()"
   ]
  },
  {
   "cell_type": "code",
   "execution_count": null,
   "metadata": {},
   "outputs": [],
   "source": [
    "print(len(val))\n",
    "val.head()"
   ]
  },
  {
   "cell_type": "code",
   "execution_count": null,
   "metadata": {},
   "outputs": [],
   "source": [
    "val.output_filepath[100]"
   ]
  },
  {
   "cell_type": "code",
   "execution_count": null,
   "metadata": {},
   "outputs": [],
   "source": [
    "train_all = pd.concat([train1, train2])\n",
    "print(len(train_all))\n",
    "train_mini = train_all.iloc[:100]\n",
    "train_all.to_csv(\"../manifests_wsj/temp/train_all.csv\", index = False, header = False)\n",
    "train_mini.to_csv(\"../manifests_wsj/temp/train_mini.csv\", index = False, header = False)\n",
    "val.to_csv(\"../manifests_wsj/temp/val.csv\", index = False, header = False)"
   ]
  },
  {
   "cell_type": "markdown",
   "metadata": {},
   "source": [
    "# Form final manifests w/ wav file paths\n",
    "TXT file paths will be added when the txt files are generated separately="
   ]
  },
  {
   "cell_type": "code",
   "execution_count": null,
   "metadata": {},
   "outputs": [],
   "source": [
    "val.drop(columns = ['input_filepath'], inplace = True)\n",
    "val.rename(columns={\"output_filepath\": \"wav_file\"}, inplace = True)\n",
    "train_all.drop(columns = ['input_filepath'], inplace = True)\n",
    "train_all.rename(columns={\"output_filepath\": \"wav_file\"}, inplace = True)\n",
    "val.head()"
   ]
  },
  {
   "cell_type": "code",
   "execution_count": null,
   "metadata": {},
   "outputs": [],
   "source": [
    "train_all.head()"
   ]
  },
  {
   "cell_type": "code",
   "execution_count": null,
   "metadata": {},
   "outputs": [],
   "source": [
    "train_mini = train_all.iloc[:100]\n",
    "train_all.to_csv(\"../manifests_wsj/wav_only/train_manifest_wsj.csv\", index = False)\n",
    "train_mini.to_csv(\"../manifests_wsj/wav_only/train_manifest_wsj.csv\", index = False)\n",
    "val.to_csv(\"../manifests_wsj/wav_only/val_manifest_wsj.csv\", index = False)"
   ]
  },
  {
   "cell_type": "code",
   "execution_count": null,
   "metadata": {},
   "outputs": [],
   "source": []
  }
 ],
 "metadata": {
  "kernelspec": {
   "display_name": "base_kernel",
   "language": "python",
   "name": "base"
  },
  "language_info": {
   "codemirror_mode": {
    "name": "ipython",
    "version": 3
   },
   "file_extension": ".py",
   "mimetype": "text/x-python",
   "name": "python",
   "nbconvert_exporter": "python",
   "pygments_lexer": "ipython3",
   "version": "3.7.6"
  }
 },
 "nbformat": 4,
 "nbformat_minor": 4
}

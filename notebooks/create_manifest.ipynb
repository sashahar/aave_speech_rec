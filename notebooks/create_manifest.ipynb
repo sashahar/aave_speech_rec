{
 "cells": [
  {
   "cell_type": "code",
   "execution_count": 1,
   "metadata": {},
   "outputs": [],
   "source": [
    "import pandas as pd\n",
    "from sklearn.model_selection import train_test_split\n",
    "from sklearn.utils import shuffle"
   ]
  },
  {
   "cell_type": "markdown",
   "metadata": {},
   "source": [
    "### Clean VoC and Coraal Manifests"
   ]
  },
  {
   "cell_type": "code",
   "execution_count": 2,
   "metadata": {},
   "outputs": [],
   "source": [
    "coraal = pd.read_csv(\"../manifests/coraal_manifest.csv\")\n",
    "coraal.rename(columns={\" groundtruth_text_train \": \"groundtruth_text_train\"}, inplace=True)\n",
    "coraal[\"AAVE\"] = 1\n",
    "coraal.dropna(subset=['groundtruth_text_train'], inplace=True)"
   ]
  },
  {
   "cell_type": "code",
   "execution_count": 3,
   "metadata": {},
   "outputs": [],
   "source": [
    "voc = pd.read_csv(\"../manifests/voc_manifest.csv\")\n",
    "voc[\"wav_file\"] = \"../\" + voc[\"wav_file\"]\n",
    "voc[\"txt_file\"] = \"../\" + voc[\"txt_file\"]\n",
    "voc.rename(columns={\"groundtruth_text\": \"groundtruth_text_raw\", \"cleaned_text\": \"groundtruth_text_train\"}, inplace=True)\n",
    "voc[\"AAVE\"] = 0\n",
    "voc.dropna(subset=['groundtruth_text_train'], inplace=True)\n",
    "voc = voc[voc[\"wav_file\"].str.split('_').str.get(3) != '3'] #Remove Spenser Deardoff (transcript + wav file don't match up)\n",
    "voc = voc[voc[\"wav_file\"].str.split('_').str.get(3) != '5'] #Remove Eric Heryford (wav file has some silences)"
   ]
  },
  {
   "cell_type": "code",
   "execution_count": 4,
   "metadata": {},
   "outputs": [
    {
     "data": {
      "text/html": [
       "<div>\n",
       "<style scoped>\n",
       "    .dataframe tbody tr th:only-of-type {\n",
       "        vertical-align: middle;\n",
       "    }\n",
       "\n",
       "    .dataframe tbody tr th {\n",
       "        vertical-align: top;\n",
       "    }\n",
       "\n",
       "    .dataframe thead th {\n",
       "        text-align: right;\n",
       "    }\n",
       "</style>\n",
       "<table border=\"1\" class=\"dataframe\">\n",
       "  <thead>\n",
       "    <tr style=\"text-align: right;\">\n",
       "      <th></th>\n",
       "      <th>wav_file</th>\n",
       "      <th>txt_file</th>\n",
       "      <th>groundtruth_text_raw</th>\n",
       "      <th>groundtruth_text_train</th>\n",
       "      <th>duration</th>\n",
       "      <th>AAVE</th>\n",
       "    </tr>\n",
       "  </thead>\n",
       "  <tbody>\n",
       "    <tr>\n",
       "      <th>0</th>\n",
       "      <td>../data_processed_voc/wav/voc_0_part_1.wav</td>\n",
       "      <td>../data_processed_voc/txt/voc_0_part_1.txt</td>\n",
       "      <td>He's also a historian. He's he is the presiden...</td>\n",
       "      <td>HE'S ALSO A HISTORIAN HE'S HE IS THE PRESIDENT...</td>\n",
       "      <td>6.006</td>\n",
       "      <td>0</td>\n",
       "    </tr>\n",
       "    <tr>\n",
       "      <th>1</th>\n",
       "      <td>../data_processed_voc/wav/voc_0_part_2.wav</td>\n",
       "      <td>../data_processed_voc/txt/voc_0_part_2.txt</td>\n",
       "      <td>Alright. That's good. So you were born in Redd...</td>\n",
       "      <td>ALRIGHT THAT'S GOOD SO YOU WERE BORN IN REDDIN...</td>\n",
       "      <td>6.433</td>\n",
       "      <td>0</td>\n",
       "    </tr>\n",
       "    <tr>\n",
       "      <th>2</th>\n",
       "      <td>../data_processed_voc/wav/voc_0_part_3.wav</td>\n",
       "      <td>../data_processed_voc/txt/voc_0_part_3.txt</td>\n",
       "      <td>Because we had just one hospital and back then...</td>\n",
       "      <td>BECAUSE WE HAD JUST ONE HOSPITAL AND BACK THEN...</td>\n",
       "      <td>8.561</td>\n",
       "      <td>0</td>\n",
       "    </tr>\n",
       "    <tr>\n",
       "      <th>3</th>\n",
       "      <td>../data_processed_voc/wav/voc_0_part_4.wav</td>\n",
       "      <td>../data_processed_voc/txt/voc_0_part_4.txt</td>\n",
       "      <td>actually south Redding uh wasn't uptown but it...</td>\n",
       "      <td>ACTUALLY SOUTH REDDING UH WASN'T UPTOWN BUT IT...</td>\n",
       "      <td>6.121</td>\n",
       "      <td>0</td>\n",
       "    </tr>\n",
       "    <tr>\n",
       "      <th>4</th>\n",
       "      <td>../data_processed_voc/wav/voc_0_part_5.wav</td>\n",
       "      <td>../data_processed_voc/txt/voc_0_part_5.txt</td>\n",
       "      <td>Well Lola A little uh Pine Street School that ...</td>\n",
       "      <td>WELL LOLA A LITTLE UH PINE STREET SCHOOL THAT ...</td>\n",
       "      <td>11.910</td>\n",
       "      <td>0</td>\n",
       "    </tr>\n",
       "  </tbody>\n",
       "</table>\n",
       "</div>"
      ],
      "text/plain": [
       "                                     wav_file  \\\n",
       "0  ../data_processed_voc/wav/voc_0_part_1.wav   \n",
       "1  ../data_processed_voc/wav/voc_0_part_2.wav   \n",
       "2  ../data_processed_voc/wav/voc_0_part_3.wav   \n",
       "3  ../data_processed_voc/wav/voc_0_part_4.wav   \n",
       "4  ../data_processed_voc/wav/voc_0_part_5.wav   \n",
       "\n",
       "                                     txt_file  \\\n",
       "0  ../data_processed_voc/txt/voc_0_part_1.txt   \n",
       "1  ../data_processed_voc/txt/voc_0_part_2.txt   \n",
       "2  ../data_processed_voc/txt/voc_0_part_3.txt   \n",
       "3  ../data_processed_voc/txt/voc_0_part_4.txt   \n",
       "4  ../data_processed_voc/txt/voc_0_part_5.txt   \n",
       "\n",
       "                                groundtruth_text_raw  \\\n",
       "0  He's also a historian. He's he is the presiden...   \n",
       "1  Alright. That's good. So you were born in Redd...   \n",
       "2  Because we had just one hospital and back then...   \n",
       "3  actually south Redding uh wasn't uptown but it...   \n",
       "4  Well Lola A little uh Pine Street School that ...   \n",
       "\n",
       "                              groundtruth_text_train  duration  AAVE  \n",
       "0  HE'S ALSO A HISTORIAN HE'S HE IS THE PRESIDENT...     6.006     0  \n",
       "1  ALRIGHT THAT'S GOOD SO YOU WERE BORN IN REDDIN...     6.433     0  \n",
       "2  BECAUSE WE HAD JUST ONE HOSPITAL AND BACK THEN...     8.561     0  \n",
       "3  ACTUALLY SOUTH REDDING UH WASN'T UPTOWN BUT IT...     6.121     0  \n",
       "4  WELL LOLA A LITTLE UH PINE STREET SCHOOL THAT ...    11.910     0  "
      ]
     },
     "execution_count": 4,
     "metadata": {},
     "output_type": "execute_result"
    }
   ],
   "source": [
    "voc.head()"
   ]
  },
  {
   "cell_type": "markdown",
   "metadata": {},
   "source": [
    "### Train/Dev/Test Split"
   ]
  },
  {
   "cell_type": "code",
   "execution_count": 5,
   "metadata": {},
   "outputs": [],
   "source": [
    "FRACTION_TEST = 0.05\n",
    "FRACTION_DEV = 0.05"
   ]
  },
  {
   "cell_type": "code",
   "execution_count": 6,
   "metadata": {},
   "outputs": [],
   "source": [
    "voc_train_val, voc_test = train_test_split(voc, test_size=FRACTION_TEST, random_state=33)\n",
    "voc_train, voc_val = train_test_split(voc_train_val, test_size=FRACTION_DEV / (1 - FRACTION_TEST), random_state=32)\n",
    "coraal_train_val, coraal_test = train_test_split(coraal, test_size=FRACTION_TEST, random_state=31)\n",
    "coraal_train, coraal_val = train_test_split(coraal_train_val, test_size=FRACTION_DEV / (1 - FRACTION_TEST), random_state=30)"
   ]
  },
  {
   "cell_type": "code",
   "execution_count": 7,
   "metadata": {},
   "outputs": [],
   "source": [
    "val = shuffle(pd.concat([voc_val, coraal_val], axis=0), random_state=29)[['wav_file', 'txt_file', 'groundtruth_text_train', 'AAVE', 'groundtruth_text_raw', 'duration']]\n",
    "test = shuffle(pd.concat([voc_test, coraal_test], axis=0), random_state=28)[['wav_file', 'txt_file', 'groundtruth_text_train', 'AAVE', 'groundtruth_text_raw', 'duration']]\n",
    "train = shuffle(pd.concat([voc_train, coraal_train], axis=0), random_state=27)[['wav_file', 'txt_file', 'groundtruth_text_train', 'AAVE', 'groundtruth_text_raw', 'duration']]"
   ]
  },
  {
   "cell_type": "code",
   "execution_count": 8,
   "metadata": {},
   "outputs": [],
   "source": [
    "val.to_csv(\"../manifests/val_manifest.csv\", index=False, header=False)\n",
    "test.to_csv(\"../manifests/test_manifest.csv\", index=False, header=False)\n",
    "train.to_csv(\"../manifests/train_manifest.csv\", index=False, header=False)"
   ]
  },
  {
   "cell_type": "markdown",
   "metadata": {},
   "source": [
    "### Create Manifests to Specs"
   ]
  },
  {
   "cell_type": "code",
   "execution_count": 9,
   "metadata": {},
   "outputs": [],
   "source": [
    "FRACTION_AAVE = 0.5\n",
    "N_EXAMPLES = 1000"
   ]
  },
  {
   "cell_type": "code",
   "execution_count": 10,
   "metadata": {},
   "outputs": [],
   "source": [
    "coraal_train_mini = coraal_train.sample(n=int(N_EXAMPLES * FRACTION_AAVE), random_state=26)[['wav_file', 'txt_file', 'groundtruth_text_train', 'AAVE', 'groundtruth_text_raw', 'duration']]\n",
    "voc_train_mini = voc_train.sample(n=int(N_EXAMPLES * (1 - FRACTION_AAVE)), random_state=25)[['wav_file', 'txt_file', 'groundtruth_text_train', 'AAVE', 'groundtruth_text_raw', 'duration']]"
   ]
  },
  {
   "cell_type": "code",
   "execution_count": 11,
   "metadata": {},
   "outputs": [],
   "source": [
    "train_mini = shuffle(pd.concat([coraal_train_mini, voc_train_mini], axis=0), random_state=24)[['wav_file', 'txt_file', 'groundtruth_text_train', 'AAVE', 'groundtruth_text_raw', 'duration']]\n",
    "val_mini = val.sample(n=int(N_EXAMPLES * FRACTION_DEV), random_state=23)[['wav_file', 'txt_file', 'groundtruth_text_train', 'AAVE', 'groundtruth_text_raw', 'duration']]"
   ]
  },
  {
   "cell_type": "code",
   "execution_count": 12,
   "metadata": {},
   "outputs": [],
   "source": [
    "train_mini.to_csv(\"../manifests/train_\"+str(N_EXAMPLES)+\"_\"+str(int(FRACTION_AAVE * 100))+\"_\"+str(int((1 - FRACTION_AAVE) * 100))+\".csv\", index=False, header=False)\n",
    "val_mini.to_csv(\"../manifests/val_\"+str(N_EXAMPLES)+\"_\"+str(int(FRACTION_AAVE * 100))+\"_\"+str(int((1 - FRACTION_AAVE) * 100))+\".csv\", index=False, header=False)"
   ]
  },
  {
   "cell_type": "code",
   "execution_count": 13,
   "metadata": {},
   "outputs": [],
   "source": [
    "FRACTION_AAVE = 0.1\n",
    "N_EXAMPLES = 1000"
   ]
  },
  {
   "cell_type": "code",
   "execution_count": 14,
   "metadata": {},
   "outputs": [],
   "source": [
    "coraal_train_mini = coraal_train.sample(n=int(N_EXAMPLES * FRACTION_AAVE), random_state=26)[['wav_file', 'txt_file', 'groundtruth_text_train', 'AAVE', 'groundtruth_text_raw', 'duration']]\n",
    "voc_train_mini = voc_train.sample(n=int(N_EXAMPLES * (1 - FRACTION_AAVE)), random_state=25)[['wav_file', 'txt_file', 'groundtruth_text_train', 'AAVE', 'groundtruth_text_raw', 'duration']]"
   ]
  },
  {
   "cell_type": "code",
   "execution_count": 15,
   "metadata": {},
   "outputs": [],
   "source": [
    "train_mini = shuffle(pd.concat([coraal_train_mini, voc_train_mini], axis=0), random_state=24)[['wav_file', 'txt_file', 'groundtruth_text_train', 'AAVE', 'groundtruth_text_raw', 'duration']]\n",
    "val_mini = val.sample(n=int(N_EXAMPLES * FRACTION_DEV), random_state=23)[['wav_file', 'txt_file', 'groundtruth_text_train', 'AAVE', 'groundtruth_text_raw', 'duration']]"
   ]
  },
  {
   "cell_type": "code",
   "execution_count": 16,
   "metadata": {},
   "outputs": [],
   "source": [
    "train_mini.to_csv(\"../manifests/train_\"+str(N_EXAMPLES)+\"_\"+str(int(FRACTION_AAVE * 100))+\"_\"+str(int((1 - FRACTION_AAVE) * 100))+\".csv\", index=False, header=False)\n",
    "val_mini.to_csv(\"../manifests/val_\"+str(N_EXAMPLES)+\"_\"+str(int(FRACTION_AAVE * 100))+\"_\"+str(int((1 - FRACTION_AAVE) * 100))+\".csv\", index=False, header=False)"
   ]
  },
  {
   "cell_type": "markdown",
   "metadata": {},
   "source": [
    "### For debugging"
   ]
  },
  {
   "cell_type": "code",
   "execution_count": 17,
   "metadata": {},
   "outputs": [],
   "source": [
    "coraal_train_mini.sample(n=100, random_state=22).to_csv(\"../manifests/coraal_train_\"+str(100)+\".csv\", index=False, header=False)"
   ]
  },
  {
   "cell_type": "code",
   "execution_count": 18,
   "metadata": {},
   "outputs": [],
   "source": [
    "voc_train_mini.sample(n=100, random_state=21).to_csv(\"../manifests/voc_train_\"+str(100)+\".csv\", index=False, header=False)"
   ]
  }
 ],
 "metadata": {
  "kernelspec": {
   "display_name": "base_kernel",
   "language": "python",
   "name": "base"
  },
  "language_info": {
   "codemirror_mode": {
    "name": "ipython",
    "version": 3
   },
   "file_extension": ".py",
   "mimetype": "text/x-python",
   "name": "python",
   "nbconvert_exporter": "python",
   "pygments_lexer": "ipython3",
   "version": "3.7.6"
  }
 },
 "nbformat": 4,
 "nbformat_minor": 2
}

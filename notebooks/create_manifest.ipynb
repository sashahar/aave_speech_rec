{
 "cells": [
  {
   "cell_type": "code",
   "execution_count": 14,
   "metadata": {},
   "outputs": [],
   "source": [
    "import pandas as pd\n",
    "from sklearn.model_selection import train_test_split\n",
    "from sklearn.utils import shuffle"
   ]
  },
  {
   "cell_type": "markdown",
   "metadata": {},
   "source": [
    "### Clean VoC and Coraal Manifests"
   ]
  },
  {
   "cell_type": "code",
   "execution_count": 33,
   "metadata": {},
   "outputs": [],
   "source": [
    "coraal = pd.read_csv(\"../manifests/coraal_manifest.csv\")\n",
    "coraal.rename(columns={\" groundtruth_text_train \": \"groundtruth_text_train\"}, inplace=True)\n",
    "coraal[\"AAVE\"] = 1\n",
    "coraal.dropna(subset=['groundtruth_text_train'], inplace=True)"
   ]
  },
  {
   "cell_type": "code",
   "execution_count": 34,
   "metadata": {},
   "outputs": [
    {
     "data": {
      "text/html": [
       "<div>\n",
       "<style scoped>\n",
       "    .dataframe tbody tr th:only-of-type {\n",
       "        vertical-align: middle;\n",
       "    }\n",
       "\n",
       "    .dataframe tbody tr th {\n",
       "        vertical-align: top;\n",
       "    }\n",
       "\n",
       "    .dataframe thead th {\n",
       "        text-align: right;\n",
       "    }\n",
       "</style>\n",
       "<table border=\"1\" class=\"dataframe\">\n",
       "  <thead>\n",
       "    <tr style=\"text-align: right;\">\n",
       "      <th></th>\n",
       "      <th>wav_file</th>\n",
       "      <th>txt_file</th>\n",
       "      <th>groundtruth_text_raw</th>\n",
       "      <th>groundtruth_text_train</th>\n",
       "      <th>duration</th>\n",
       "      <th>AAVE</th>\n",
       "    </tr>\n",
       "  </thead>\n",
       "  <tbody>\n",
       "    <tr>\n",
       "      <th>0</th>\n",
       "      <td>../data_processed/wav/ATL_se0_ag1_f_03_1_part_...</td>\n",
       "      <td>../data_processed/txt/ATL_se0_ag1_f_03_1_part_...</td>\n",
       "      <td>Um, my mom used to be a school teacher, and th...</td>\n",
       "      <td>UM MY MOM USED TO BE A SCHOOL TEACHER AND THEN...</td>\n",
       "      <td>8.221</td>\n",
       "      <td>1</td>\n",
       "    </tr>\n",
       "    <tr>\n",
       "      <th>1</th>\n",
       "      <td>../data_processed/wav/ATL_se0_ag1_f_03_1_part_...</td>\n",
       "      <td>../data_processed/txt/ATL_se0_ag1_f_03_1_part_...</td>\n",
       "      <td>And my dad, um, he did- he played soccer and h...</td>\n",
       "      <td>AND MY DAD UM HE DID HE PLAYED SOCCER AND HE U...</td>\n",
       "      <td>10.518</td>\n",
       "      <td>1</td>\n",
       "    </tr>\n",
       "    <tr>\n",
       "      <th>2</th>\n",
       "      <td>../data_processed/wav/ATL_se0_ag1_f_03_1_part_...</td>\n",
       "      <td>../data_processed/txt/ATL_se0_ag1_f_03_1_part_...</td>\n",
       "      <td>Well he- he, um, was a seamstress and then whe...</td>\n",
       "      <td>WELL HE HE UM WAS A SEAMSTRESS AND THEN WHEN H...</td>\n",
       "      <td>5.274</td>\n",
       "      <td>1</td>\n",
       "    </tr>\n",
       "    <tr>\n",
       "      <th>3</th>\n",
       "      <td>../data_processed/wav/ATL_se0_ag1_f_03_1_part_...</td>\n",
       "      <td>../data_processed/txt/ATL_se0_ag1_f_03_1_part_...</td>\n",
       "      <td>&lt;laugh&gt; No. (laughing) A all white like your c...</td>\n",
       "      <td>NO A ALL WHITE LIKE YOUR CLOTHES ALL WHITE CLO...</td>\n",
       "      <td>5.589</td>\n",
       "      <td>1</td>\n",
       "    </tr>\n",
       "    <tr>\n",
       "      <th>4</th>\n",
       "      <td>../data_processed/wav/ATL_se0_ag1_f_03_1_part_...</td>\n",
       "      <td>../data_processed/txt/ATL_se0_ag1_f_03_1_part_...</td>\n",
       "      <td>Um, I mean it's different things. I mean it de...</td>\n",
       "      <td>UM I MEAN IT'S DIFFERENT THINGS I MEAN IT DEPE...</td>\n",
       "      <td>10.441</td>\n",
       "      <td>1</td>\n",
       "    </tr>\n",
       "  </tbody>\n",
       "</table>\n",
       "</div>"
      ],
      "text/plain": [
       "                                            wav_file  \\\n",
       "0  ../data_processed/wav/ATL_se0_ag1_f_03_1_part_...   \n",
       "1  ../data_processed/wav/ATL_se0_ag1_f_03_1_part_...   \n",
       "2  ../data_processed/wav/ATL_se0_ag1_f_03_1_part_...   \n",
       "3  ../data_processed/wav/ATL_se0_ag1_f_03_1_part_...   \n",
       "4  ../data_processed/wav/ATL_se0_ag1_f_03_1_part_...   \n",
       "\n",
       "                                            txt_file  \\\n",
       "0  ../data_processed/txt/ATL_se0_ag1_f_03_1_part_...   \n",
       "1  ../data_processed/txt/ATL_se0_ag1_f_03_1_part_...   \n",
       "2  ../data_processed/txt/ATL_se0_ag1_f_03_1_part_...   \n",
       "3  ../data_processed/txt/ATL_se0_ag1_f_03_1_part_...   \n",
       "4  ../data_processed/txt/ATL_se0_ag1_f_03_1_part_...   \n",
       "\n",
       "                                groundtruth_text_raw  \\\n",
       "0  Um, my mom used to be a school teacher, and th...   \n",
       "1  And my dad, um, he did- he played soccer and h...   \n",
       "2  Well he- he, um, was a seamstress and then whe...   \n",
       "3  <laugh> No. (laughing) A all white like your c...   \n",
       "4  Um, I mean it's different things. I mean it de...   \n",
       "\n",
       "                              groundtruth_text_train  duration  AAVE  \n",
       "0  UM MY MOM USED TO BE A SCHOOL TEACHER AND THEN...     8.221     1  \n",
       "1  AND MY DAD UM HE DID HE PLAYED SOCCER AND HE U...    10.518     1  \n",
       "2  WELL HE HE UM WAS A SEAMSTRESS AND THEN WHEN H...     5.274     1  \n",
       "3  NO A ALL WHITE LIKE YOUR CLOTHES ALL WHITE CLO...     5.589     1  \n",
       "4  UM I MEAN IT'S DIFFERENT THINGS I MEAN IT DEPE...    10.441     1  "
      ]
     },
     "execution_count": 34,
     "metadata": {},
     "output_type": "execute_result"
    }
   ],
   "source": [
    "coraal.head()"
   ]
  },
  {
   "cell_type": "code",
   "execution_count": 35,
   "metadata": {},
   "outputs": [],
   "source": [
    "voc = pd.read_csv(\"../manifests/voc_manifest.csv\")\n",
    "voc[\"wav_file\"] = \"../\" + voc[\"wav_file\"]\n",
    "voc[\"txt_file\"] = \"../\" + voc[\"txt_file\"]\n",
    "voc.rename(columns={\"groundtruth_text\": \"groundtruth_text_raw\", \"cleaned_text\": \"groundtruth_text_train\"}, inplace=True)\n",
    "voc[\"AAVE\"] = 0\n",
    "voc.dropna(subset=['groundtruth_text_train'], inplace=True)\n",
    "voc = voc[voc[\"wav_file\"].str.split('_').str.get(3) != '3'] #Remove Spenser Deardoff (transcript + wav file don't match up)\n",
    "voc = voc[voc[\"wav_file\"].str.split('_').str.get(3) != '5'] #Remove Eric Heryford (wav file has some silences)\n",
    "#remove high loss data points\n",
    "examples = [\n",
    "    '../data_processed_voc/wav/voc_33_part_3.wav', #Transcript: UM\n",
    "    '../data_processed_voc/wav/voc_2_part_1.wav', #Transcript: UM\n",
    "    '../data_processed_voc/wav/voc_12_part_198.wav', # KILL\n",
    "    '../data_processed_voc/wav/voc_0_part_330.wav', #KILL\n",
    "    '../data_processed_voc/wav/voc_0_part_328.wav', # Basically silent\n",
    "    '../data_processed_voc/wav/voc_10_part_414.wav', # Basically silent\n",
    "    '../data_processed_voc/wav/voc_10_part_404.wav', #Transcript: UM\n",
    "    '../data_processed_voc/wav/voc_2_part_4.wav', #Transcript: UM YEAH SURE\n",
    "    '../data_processed_voc/wav/voc_8_part_228.wav', #KILL\n",
    "    '../data_processed_voc/wav/voc_26_part_207.wav', #Transcript: Incorrect\n",
    "    '../data_processed_voc/wav/voc_13_part_234.wav', #Transcript: Incorrect\n",
    "    '../data_processed_voc/wav/voc_12_part_185.wav' #KILL\n",
    "]\n",
    "voc = voc[~voc[\"wav_file\"].isin(examples)]"
   ]
  },
  {
   "cell_type": "code",
   "execution_count": 36,
   "metadata": {},
   "outputs": [
    {
     "data": {
      "text/html": [
       "<div>\n",
       "<style scoped>\n",
       "    .dataframe tbody tr th:only-of-type {\n",
       "        vertical-align: middle;\n",
       "    }\n",
       "\n",
       "    .dataframe tbody tr th {\n",
       "        vertical-align: top;\n",
       "    }\n",
       "\n",
       "    .dataframe thead th {\n",
       "        text-align: right;\n",
       "    }\n",
       "</style>\n",
       "<table border=\"1\" class=\"dataframe\">\n",
       "  <thead>\n",
       "    <tr style=\"text-align: right;\">\n",
       "      <th></th>\n",
       "      <th>wav_file</th>\n",
       "      <th>txt_file</th>\n",
       "      <th>groundtruth_text_raw</th>\n",
       "      <th>groundtruth_text_train</th>\n",
       "      <th>duration</th>\n",
       "      <th>AAVE</th>\n",
       "    </tr>\n",
       "  </thead>\n",
       "  <tbody>\n",
       "    <tr>\n",
       "      <th>0</th>\n",
       "      <td>../data_processed_voc/wav/voc_0_part_1.wav</td>\n",
       "      <td>../data_processed_voc/txt/voc_0_part_1.txt</td>\n",
       "      <td>He's also a historian. He's he is the presiden...</td>\n",
       "      <td>HE'S ALSO A HISTORIAN HE'S HE IS THE PRESIDENT...</td>\n",
       "      <td>6.006</td>\n",
       "      <td>0</td>\n",
       "    </tr>\n",
       "    <tr>\n",
       "      <th>1</th>\n",
       "      <td>../data_processed_voc/wav/voc_0_part_2.wav</td>\n",
       "      <td>../data_processed_voc/txt/voc_0_part_2.txt</td>\n",
       "      <td>Alright. That's good. So you were born in Redd...</td>\n",
       "      <td>ALRIGHT THAT'S GOOD SO YOU WERE BORN IN REDDIN...</td>\n",
       "      <td>6.433</td>\n",
       "      <td>0</td>\n",
       "    </tr>\n",
       "    <tr>\n",
       "      <th>2</th>\n",
       "      <td>../data_processed_voc/wav/voc_0_part_3.wav</td>\n",
       "      <td>../data_processed_voc/txt/voc_0_part_3.txt</td>\n",
       "      <td>Because we had just one hospital and back then...</td>\n",
       "      <td>BECAUSE WE HAD JUST ONE HOSPITAL AND BACK THEN...</td>\n",
       "      <td>8.561</td>\n",
       "      <td>0</td>\n",
       "    </tr>\n",
       "    <tr>\n",
       "      <th>3</th>\n",
       "      <td>../data_processed_voc/wav/voc_0_part_4.wav</td>\n",
       "      <td>../data_processed_voc/txt/voc_0_part_4.txt</td>\n",
       "      <td>actually south Redding uh wasn't uptown but it...</td>\n",
       "      <td>ACTUALLY SOUTH REDDING UH WASN'T UPTOWN BUT IT...</td>\n",
       "      <td>6.121</td>\n",
       "      <td>0</td>\n",
       "    </tr>\n",
       "    <tr>\n",
       "      <th>4</th>\n",
       "      <td>../data_processed_voc/wav/voc_0_part_5.wav</td>\n",
       "      <td>../data_processed_voc/txt/voc_0_part_5.txt</td>\n",
       "      <td>Well Lola A little uh Pine Street School that ...</td>\n",
       "      <td>WELL LOLA A LITTLE UH PINE STREET SCHOOL THAT ...</td>\n",
       "      <td>11.910</td>\n",
       "      <td>0</td>\n",
       "    </tr>\n",
       "  </tbody>\n",
       "</table>\n",
       "</div>"
      ],
      "text/plain": [
       "                                     wav_file  \\\n",
       "0  ../data_processed_voc/wav/voc_0_part_1.wav   \n",
       "1  ../data_processed_voc/wav/voc_0_part_2.wav   \n",
       "2  ../data_processed_voc/wav/voc_0_part_3.wav   \n",
       "3  ../data_processed_voc/wav/voc_0_part_4.wav   \n",
       "4  ../data_processed_voc/wav/voc_0_part_5.wav   \n",
       "\n",
       "                                     txt_file  \\\n",
       "0  ../data_processed_voc/txt/voc_0_part_1.txt   \n",
       "1  ../data_processed_voc/txt/voc_0_part_2.txt   \n",
       "2  ../data_processed_voc/txt/voc_0_part_3.txt   \n",
       "3  ../data_processed_voc/txt/voc_0_part_4.txt   \n",
       "4  ../data_processed_voc/txt/voc_0_part_5.txt   \n",
       "\n",
       "                                groundtruth_text_raw  \\\n",
       "0  He's also a historian. He's he is the presiden...   \n",
       "1  Alright. That's good. So you were born in Redd...   \n",
       "2  Because we had just one hospital and back then...   \n",
       "3  actually south Redding uh wasn't uptown but it...   \n",
       "4  Well Lola A little uh Pine Street School that ...   \n",
       "\n",
       "                              groundtruth_text_train  duration  AAVE  \n",
       "0  HE'S ALSO A HISTORIAN HE'S HE IS THE PRESIDENT...     6.006     0  \n",
       "1  ALRIGHT THAT'S GOOD SO YOU WERE BORN IN REDDIN...     6.433     0  \n",
       "2  BECAUSE WE HAD JUST ONE HOSPITAL AND BACK THEN...     8.561     0  \n",
       "3  ACTUALLY SOUTH REDDING UH WASN'T UPTOWN BUT IT...     6.121     0  \n",
       "4  WELL LOLA A LITTLE UH PINE STREET SCHOOL THAT ...    11.910     0  "
      ]
     },
     "execution_count": 36,
     "metadata": {},
     "output_type": "execute_result"
    }
   ],
   "source": [
    "voc.head()"
   ]
  },
  {
   "cell_type": "markdown",
   "metadata": {},
   "source": [
    "### Train/Dev/Test Split"
   ]
  },
  {
   "cell_type": "code",
   "execution_count": 37,
   "metadata": {},
   "outputs": [],
   "source": [
    "FRACTION_TEST = 0.05\n",
    "FRACTION_DEV = 0.05"
   ]
  },
  {
   "cell_type": "code",
   "execution_count": 38,
   "metadata": {},
   "outputs": [],
   "source": [
    "voc_train_val, voc_test = train_test_split(voc, test_size=FRACTION_TEST, random_state=33)\n",
    "voc_train, voc_val = train_test_split(voc_train_val, test_size=FRACTION_DEV / (1 - FRACTION_TEST), random_state=32)\n",
    "coraal_train_val, coraal_test = train_test_split(coraal, test_size=FRACTION_TEST, random_state=31)\n",
    "coraal_train, coraal_val = train_test_split(coraal_train_val, test_size=FRACTION_DEV / (1 - FRACTION_TEST), random_state=30)"
   ]
  },
  {
   "cell_type": "code",
   "execution_count": 39,
   "metadata": {},
   "outputs": [
    {
     "name": "stdout",
     "output_type": "stream",
     "text": [
      "408\n",
      "408\n",
      "7342\n"
     ]
    }
   ],
   "source": [
    "#To create separate manifests for voc\n",
    "voc_val = shuffle(voc_val, random_state=29)[['wav_file', 'txt_file', 'groundtruth_text_train', 'AAVE', 'groundtruth_text_raw', 'duration']]\n",
    "voc_test = shuffle(voc_test, random_state=28)[['wav_file', 'txt_file', 'groundtruth_text_train', 'AAVE', 'groundtruth_text_raw', 'duration']]\n",
    "voc_train = shuffle(voc_train, random_state=27)[['wav_file', 'txt_file', 'groundtruth_text_train', 'AAVE', 'groundtruth_text_raw', 'duration']]\n",
    "print(len(voc_val))\n",
    "print(len(voc_test))\n",
    "print(len(voc_train))\n",
    "voc_val.to_csv(\"../manifests/voc_val_manifest.csv\", index=False, header=False)\n",
    "voc_test.to_csv(\"../manifests/voc_test_manifest.csv\", index=False, header=False)\n",
    "voc_train.to_csv(\"../manifests/voc_train_manifest.csv\", index=False, header=False)"
   ]
  },
  {
   "cell_type": "code",
   "execution_count": 40,
   "metadata": {},
   "outputs": [
    {
     "name": "stdout",
     "output_type": "stream",
     "text": [
      "1.8595530555555555\n",
      "1.8892536111111111\n",
      "33.40277555555556\n"
     ]
    }
   ],
   "source": [
    "print(voc_val.duration.sum()/3600)\n",
    "print(voc_test.duration.sum()/3600)\n",
    "print(voc_train.duration.sum()/3600)"
   ]
  },
  {
   "cell_type": "code",
   "execution_count": 41,
   "metadata": {},
   "outputs": [
    {
     "name": "stdout",
     "output_type": "stream",
     "text": [
      "629\n",
      "629\n",
      "11308\n"
     ]
    }
   ],
   "source": [
    "#To create separate manifests for coraal\n",
    "coraal_val = shuffle(coraal_val, random_state=29)[['wav_file', 'txt_file', 'groundtruth_text_train', 'AAVE', 'groundtruth_text_raw', 'duration']]\n",
    "coraal_test = shuffle(coraal_test, random_state=28)[['wav_file', 'txt_file', 'groundtruth_text_train', 'AAVE', 'groundtruth_text_raw', 'duration']]\n",
    "coraal_train = shuffle(coraal_train, random_state=27)[['wav_file', 'txt_file', 'groundtruth_text_train', 'AAVE', 'groundtruth_text_raw', 'duration']]\n",
    "print(len(coraal_val))\n",
    "print(len(coraal_test))\n",
    "print(len(coraal_train))"
   ]
  },
  {
   "cell_type": "code",
   "execution_count": 42,
   "metadata": {},
   "outputs": [
    {
     "name": "stdout",
     "output_type": "stream",
     "text": [
      "2.5724905555555555\n",
      "2.5373119444444447\n",
      "45.780607777777774\n"
     ]
    }
   ],
   "source": [
    "print(coraal_val.duration.sum()/3600)\n",
    "print(coraal_test.duration.sum()/3600)\n",
    "print(coraal_train.duration.sum()/3600)"
   ]
  },
  {
   "cell_type": "code",
   "execution_count": 43,
   "metadata": {},
   "outputs": [
    {
     "data": {
      "text/plain": [
       "0.7228609844804527"
      ]
     },
     "execution_count": 43,
     "metadata": {},
     "output_type": "execute_result"
    }
   ],
   "source": [
    "#select fraction to make size of CORAAL same as size of VOC (define size as total duration of audio)\n",
    "SUBSET_FRAC = voc_val.duration.sum() / coraal_val.duration.sum()\n",
    "SUBSET_FRAC"
   ]
  },
  {
   "cell_type": "code",
   "execution_count": 44,
   "metadata": {},
   "outputs": [
    {
     "name": "stdout",
     "output_type": "stream",
     "text": [
      "1.8563100000000001\n",
      "1.8168497222222222\n",
      "33.080753333333334\n"
     ]
    }
   ],
   "source": [
    "coraal_val = coraal_val.sample(frac = SUBSET_FRAC, random_state= 29)\n",
    "coraal_test = coraal_test.sample(frac = SUBSET_FRAC, random_state= 28)\n",
    "coraal_train = coraal_train.sample(frac = SUBSET_FRAC, random_state= 27)\n",
    "print(coraal_val.duration.sum()/3600)\n",
    "print(coraal_test.duration.sum()/3600)\n",
    "print(coraal_train.duration.sum()/3600)"
   ]
  },
  {
   "cell_type": "code",
   "execution_count": 45,
   "metadata": {},
   "outputs": [],
   "source": [
    "coraal_val.to_csv(\"../manifests/coraal_val_manifest.csv\", index=False, header=False)\n",
    "coraal_test.to_csv(\"../manifests/coraal_test_manifest.csv\", index=False, header=False)\n",
    "coraal_train.to_csv(\"../manifests/coraal_train_manifest.csv\", index=False, header=False)"
   ]
  },
  {
   "cell_type": "markdown",
   "metadata": {},
   "source": [
    "# Create Combined manifests"
   ]
  },
  {
   "cell_type": "code",
   "execution_count": 46,
   "metadata": {},
   "outputs": [],
   "source": [
    "val = shuffle(pd.concat([voc_val, coraal_val], axis=0), random_state=29)[['wav_file', 'txt_file', 'groundtruth_text_train', 'AAVE', 'groundtruth_text_raw', 'duration']]\n",
    "test = shuffle(pd.concat([voc_test, coraal_test], axis=0), random_state=28)[['wav_file', 'txt_file', 'groundtruth_text_train', 'AAVE', 'groundtruth_text_raw', 'duration']]\n",
    "train = shuffle(pd.concat([voc_train, coraal_train], axis=0), random_state=27)[['wav_file', 'txt_file', 'groundtruth_text_train', 'AAVE', 'groundtruth_text_raw', 'duration']]"
   ]
  },
  {
   "cell_type": "code",
   "execution_count": 47,
   "metadata": {},
   "outputs": [],
   "source": [
    "val.to_csv(\"../manifests/val_manifest.csv\", index=False, header=False)\n",
    "test.to_csv(\"../manifests/test_manifest.csv\", index=False, header=False)\n",
    "train.to_csv(\"../manifests/train_manifest.csv\", index=False, header=False)"
   ]
  },
  {
   "cell_type": "markdown",
   "metadata": {},
   "source": [
    "### Create Manifests to Specs"
   ]
  },
  {
   "cell_type": "code",
   "execution_count": 9,
   "metadata": {},
   "outputs": [],
   "source": [
    "FRACTION_AAVE = 0.5\n",
    "N_EXAMPLES = 1000"
   ]
  },
  {
   "cell_type": "code",
   "execution_count": 10,
   "metadata": {},
   "outputs": [],
   "source": [
    "coraal_train_mini = coraal_train.sample(n=int(N_EXAMPLES * FRACTION_AAVE), random_state=26)[['wav_file', 'txt_file', 'groundtruth_text_train', 'AAVE', 'groundtruth_text_raw', 'duration']]\n",
    "voc_train_mini = voc_train.sample(n=int(N_EXAMPLES * (1 - FRACTION_AAVE)), random_state=25)[['wav_file', 'txt_file', 'groundtruth_text_train', 'AAVE', 'groundtruth_text_raw', 'duration']]"
   ]
  },
  {
   "cell_type": "code",
   "execution_count": 11,
   "metadata": {},
   "outputs": [],
   "source": [
    "train_mini = shuffle(pd.concat([coraal_train_mini, voc_train_mini], axis=0), random_state=24)[['wav_file', 'txt_file', 'groundtruth_text_train', 'AAVE', 'groundtruth_text_raw', 'duration']]\n",
    "val_mini = val.sample(n=int(N_EXAMPLES * FRACTION_DEV), random_state=23)[['wav_file', 'txt_file', 'groundtruth_text_train', 'AAVE', 'groundtruth_text_raw', 'duration']]"
   ]
  },
  {
   "cell_type": "code",
   "execution_count": 12,
   "metadata": {},
   "outputs": [],
   "source": [
    "train_mini.to_csv(\"../manifests/train_\"+str(N_EXAMPLES)+\"_\"+str(int(FRACTION_AAVE * 100))+\"_\"+str(int((1 - FRACTION_AAVE) * 100))+\".csv\", index=False, header=False)\n",
    "val_mini.to_csv(\"../manifests/val_\"+str(N_EXAMPLES)+\"_\"+str(int(FRACTION_AAVE * 100))+\"_\"+str(int((1 - FRACTION_AAVE) * 100))+\".csv\", index=False, header=False)"
   ]
  },
  {
   "cell_type": "code",
   "execution_count": 13,
   "metadata": {},
   "outputs": [],
   "source": [
    "FRACTION_AAVE = 0.1\n",
    "N_EXAMPLES = 1000"
   ]
  },
  {
   "cell_type": "code",
   "execution_count": 14,
   "metadata": {},
   "outputs": [],
   "source": [
    "coraal_train_mini = coraal_train.sample(n=int(N_EXAMPLES * FRACTION_AAVE), random_state=26)[['wav_file', 'txt_file', 'groundtruth_text_train', 'AAVE', 'groundtruth_text_raw', 'duration']]\n",
    "voc_train_mini = voc_train.sample(n=int(N_EXAMPLES * (1 - FRACTION_AAVE)), random_state=25)[['wav_file', 'txt_file', 'groundtruth_text_train', 'AAVE', 'groundtruth_text_raw', 'duration']]"
   ]
  },
  {
   "cell_type": "code",
   "execution_count": 15,
   "metadata": {},
   "outputs": [],
   "source": [
    "train_mini = shuffle(pd.concat([coraal_train_mini, voc_train_mini], axis=0), random_state=24)[['wav_file', 'txt_file', 'groundtruth_text_train', 'AAVE', 'groundtruth_text_raw', 'duration']]\n",
    "val_mini = val.sample(n=int(N_EXAMPLES * FRACTION_DEV), random_state=23)[['wav_file', 'txt_file', 'groundtruth_text_train', 'AAVE', 'groundtruth_text_raw', 'duration']]"
   ]
  },
  {
   "cell_type": "code",
   "execution_count": 16,
   "metadata": {},
   "outputs": [],
   "source": [
    "train_mini.to_csv(\"../manifests/train_\"+str(N_EXAMPLES)+\"_\"+str(int(FRACTION_AAVE * 100))+\"_\"+str(int((1 - FRACTION_AAVE) * 100))+\".csv\", index=False, header=False)\n",
    "val_mini.to_csv(\"../manifests/val_\"+str(N_EXAMPLES)+\"_\"+str(int(FRACTION_AAVE * 100))+\"_\"+str(int((1 - FRACTION_AAVE) * 100))+\".csv\", index=False, header=False)"
   ]
  },
  {
   "cell_type": "markdown",
   "metadata": {},
   "source": [
    "### For debugging"
   ]
  },
  {
   "cell_type": "code",
   "execution_count": 17,
   "metadata": {},
   "outputs": [],
   "source": [
    "coraal_train_mini.sample(n=100, random_state=22).to_csv(\"../manifests/coraal_train_\"+str(100)+\".csv\", index=False, header=False)"
   ]
  },
  {
   "cell_type": "code",
   "execution_count": 18,
   "metadata": {},
   "outputs": [],
   "source": [
    "voc_train_mini.sample(n=100, random_state=21).to_csv(\"../manifests/voc_train_\"+str(100)+\".csv\", index=False, header=False)"
   ]
  }
 ],
 "metadata": {
  "kernelspec": {
   "display_name": "base_kernel",
   "language": "python",
   "name": "base"
  },
  "language_info": {
   "codemirror_mode": {
    "name": "ipython",
    "version": 3
   },
   "file_extension": ".py",
   "mimetype": "text/x-python",
   "name": "python",
   "nbconvert_exporter": "python",
   "pygments_lexer": "ipython3",
   "version": "3.7.6"
  }
 },
 "nbformat": 4,
 "nbformat_minor": 2
}

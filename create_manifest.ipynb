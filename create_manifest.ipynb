{
 "cells": [
  {
   "cell_type": "code",
   "execution_count": 1,
   "metadata": {},
   "outputs": [],
   "source": [
    "import pandas as pd\n",
    "from sklearn.model_selection import train_test_split\n",
    "from sklearn.utils import shuffle"
   ]
  },
  {
   "cell_type": "markdown",
   "metadata": {},
   "source": [
    "### Clean VoC and Coraal Manifests"
   ]
  },
  {
   "cell_type": "code",
   "execution_count": 2,
   "metadata": {},
   "outputs": [],
   "source": [
    "coraal = pd.read_csv(\"coraal_manifest.csv\")\n",
    "coraal.rename(columns={\" groundtruth_text_train \": \"groundtruth_text_train\"}, inplace=True)\n",
    "coraal[\"AAVE\"] = 1\n",
    "coraal.dropna(subset=['groundtruth_text_train'], inplace=True)"
   ]
  },
  {
   "cell_type": "code",
   "execution_count": 3,
   "metadata": {},
   "outputs": [],
   "source": [
    "voc = pd.read_csv(\"voc_manifest.csv\")\n",
    "voc[\"wav_file\"] = \"../\" + voc[\"wav_file\"]\n",
    "voc[\"txt_file\"] = \"../\" + voc[\"txt_file\"]\n",
    "voc.rename(columns={\"groundtruth_text\": \"groundtruth_text_raw\", \"cleaned_text\": \"groundtruth_text_train\"}, inplace=True)\n",
    "voc[\"AAVE\"] = 0\n",
    "voc.dropna(subset=['groundtruth_text_train'], inplace=True)"
   ]
  },
  {
   "cell_type": "markdown",
   "metadata": {},
   "source": [
    "### Train/Dev/Test Split"
   ]
  },
  {
   "cell_type": "code",
   "execution_count": 4,
   "metadata": {},
   "outputs": [],
   "source": [
    "FRACTION_TEST = 0.05\n",
    "FRACTION_DEV = 0.05"
   ]
  },
  {
   "cell_type": "code",
   "execution_count": 5,
   "metadata": {},
   "outputs": [],
   "source": [
    "voc_train_val, voc_test = train_test_split(voc, test_size=FRACTION_TEST, random_state=33)\n",
    "voc_train, voc_val = train_test_split(voc_train_val, test_size=FRACTION_DEV / (1 - FRACTION_TEST), random_state=32)\n",
    "coraal_train_val, coraal_test = train_test_split(coraal, test_size=FRACTION_TEST, random_state=31)\n",
    "coraal_train, coraal_val = train_test_split(coraal_train_val, test_size=FRACTION_DEV / (1 - FRACTION_TEST), random_state=30)"
   ]
  },
  {
   "cell_type": "code",
   "execution_count": 6,
   "metadata": {},
   "outputs": [],
   "source": [
    "val = shuffle(pd.concat([voc_val, coraal_val], axis=0), random_state=29)\n",
    "test = shuffle(pd.concat([voc_test, coraal_test], axis=0), random_state=28)\n",
    "train = shuffle(pd.concat([voc_train, coraal_train], axis=0), random_state=27)"
   ]
  },
  {
   "cell_type": "code",
   "execution_count": 7,
   "metadata": {},
   "outputs": [],
   "source": [
    "val.to_csv(\"val_manifest.csv\", index=False)\n",
    "test.to_csv(\"test_manifest.csv\", index=False)\n",
    "train.to_csv(\"train_manifest.csv\", index=False)"
   ]
  },
  {
   "cell_type": "markdown",
   "metadata": {},
   "source": [
    "### Create Manifests to Specs"
   ]
  },
  {
   "cell_type": "code",
   "execution_count": 8,
   "metadata": {},
   "outputs": [],
   "source": [
    "FRACTION_AAVE = 0.5\n",
    "N_EXAMPLES = 1000"
   ]
  },
  {
   "cell_type": "code",
   "execution_count": 9,
   "metadata": {},
   "outputs": [],
   "source": [
    "coraal_train_mini = coraal_train.sample(n=int(N_EXAMPLES * FRACTION_AAVE), random_state=26)\n",
    "voc_train_mini = voc_train.sample(n=int(N_EXAMPLES * (1 - FRACTION_AAVE)), random_state=25)"
   ]
  },
  {
   "cell_type": "code",
   "execution_count": 10,
   "metadata": {},
   "outputs": [],
   "source": [
    "train_mini = shuffle(pd.concat([coraal_train_mini, voc_train_mini], axis=0), random_state=24)\n",
    "val_mini = val.sample(n=int(N_EXAMPLES * FRACTION_DEV), random_state=23)"
   ]
  },
  {
   "cell_type": "code",
   "execution_count": 13,
   "metadata": {},
   "outputs": [],
   "source": [
    "train_mini.to_csv(\"train_\"+str(N_EXAMPLES)+\"_\"+str(int(FRACTION_AAVE * 100))+\"_\"+str(int((1 - FRACTION_AAVE) * 100))+\".csv\", index=False)\n",
    "val_mini.to_csv(\"val_\"+str(N_EXAMPLES)+\"_\"+str(int(FRACTION_AAVE * 100))+\"_\"+str(int((1 - FRACTION_AAVE) * 100))+\".csv\", index=False)"
   ]
  }
 ],
 "metadata": {
  "kernelspec": {
   "display_name": "aave_speech_rec",
   "language": "python",
   "name": "aave_speech_rec"
  },
  "language_info": {
   "codemirror_mode": {
    "name": "ipython",
    "version": 3
   },
   "file_extension": ".py",
   "mimetype": "text/x-python",
   "name": "python",
   "nbconvert_exporter": "python",
   "pygments_lexer": "ipython3",
   "version": "3.8.3"
  }
 },
 "nbformat": 4,
 "nbformat_minor": 2
}
